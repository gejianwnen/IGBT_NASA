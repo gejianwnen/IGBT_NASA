{
 "cells": [
  {
   "cell_type": "code",
   "execution_count": 1,
   "metadata": {},
   "outputs": [
    {
     "name": "stderr",
     "output_type": "stream",
     "text": [
      "Using TensorFlow backend.\n"
     ]
    }
   ],
   "source": [
    "# Imports\n",
    "from keras.layers import Bidirectional, Concatenate, Permute, Dot, Input, LSTM, Multiply, Reshape\n",
    "from keras.layers import RepeatVector, Dense, Activation, Lambda\n",
    "from keras.optimizers import Adam\n",
    "from keras.utils import to_categorical\n",
    "from keras.models import load_model, Model\n",
    "from keras.callbacks import LearningRateScheduler\n",
    "import keras.backend as K\n",
    "\n",
    "import matplotlib.pyplot as plt\n",
    "%matplotlib inline\n",
    "\n",
    "import numpy as np\n",
    "\n",
    "import random\n",
    "import math\n",
    "import json\n",
    "\n",
    "# Pinkie Pie was here"
   ]
  },
  {
   "cell_type": "code",
   "execution_count": 2,
   "metadata": {},
   "outputs": [],
   "source": [
    "human_vocab_size = 1 # len(human_vocab)\n",
    "machine_vocab_size = 1 # len(machine_vocab)\n",
    "\n",
    "# Number of training examples\n",
    "data_len = 1000 # len(dataset)\n",
    "Tx = 32 # Max x sequence length --> input time_step\n",
    "Ty = 5 # y sequence length  ---> output timestep or predict timestep\n",
    "layer1_size = 4\n",
    "layer2_size = 4 # Attention layer"
   ]
  },
  {
   "cell_type": "code",
   "execution_count": 3,
   "metadata": {},
   "outputs": [],
   "source": [
    "# 获取数据\n",
    "# ts = np.arange(data_len)/data_len\n",
    "ts = []\n",
    "for i in range(data_len):\n",
    "#     ts.append(np.exp(-i/data_len*3))\n",
    "    ts.append(np.sin(i/data_len*6)/2+0.5)\n",
    "    \n",
    "X = []\n",
    "Y = []\n",
    "for i in range(Tx,data_len-Ty):\n",
    "    X_i = ts[i-Tx:i]\n",
    "    Y_i = ts[i:i+Ty]\n",
    "    X.append(np.array([X_i]).T)\n",
    "    Y.append(np.array([Y_i]).T)\n",
    "    \n",
    "X = np.array(X)\n",
    "Y = np.array(Y)"
   ]
  },
  {
   "cell_type": "code",
   "execution_count": 4,
   "metadata": {},
   "outputs": [
    {
     "data": {
      "text/plain": [
       "[<matplotlib.lines.Line2D at 0x24313da8ec8>]"
      ]
     },
     "execution_count": 4,
     "metadata": {},
     "output_type": "execute_result"
    },
    {
     "data": {
      "image/png": "[encoded data removed]",
      "text/plain": [
       "<Figure size 432x288 with 1 Axes>"
      ]
     },
     "metadata": {
      "needs_background": "light"
     },
     "output_type": "display_data"
    }
   ],
   "source": [
    "plt.plot(ts)"
   ]
  },
  {
   "cell_type": "code",
   "execution_count": 5,
   "metadata": {},
   "outputs": [],
   "source": [
    "# 划分训练集和测试集\n",
    "train_size = int(0.8*data_len)\n",
    "X_train = X[:train_size]\n",
    "Y_train = Y[:train_size]\n",
    "X_test = X[train_size:]\n",
    "Y_test = Y[train_size:]"
   ]
  },
  {
   "cell_type": "code",
   "execution_count": 6,
   "metadata": {},
   "outputs": [
    {
     "data": {
      "text/plain": [
       "(800, 32, 1)"
      ]
     },
     "execution_count": 6,
     "metadata": {},
     "output_type": "execute_result"
    }
   ],
   "source": [
    "X_train.shape"
   ]
  },
  {
   "cell_type": "code",
   "execution_count": 7,
   "metadata": {},
   "outputs": [
    {
     "data": {
      "text/plain": [
       "(800, 5, 1)"
      ]
     },
     "execution_count": 7,
     "metadata": {},
     "output_type": "execute_result"
    }
   ],
   "source": [
    "Y_train.shape"
   ]
  },
  {
   "cell_type": "code",
   "execution_count": 8,
   "metadata": {},
   "outputs": [
    {
     "name": "stderr",
     "output_type": "stream",
     "text": [
      "D:\\Users\\admin\\Anaconda3\\lib\\site-packages\\ipykernel_launcher.py:8: UserWarning: Update your `Dense` call to the Keras 2 API: `Dense(8, activation=\"tanh\", kernel_initializer=\"normal\")`\n",
      "  \n",
      "D:\\Users\\admin\\Anaconda3\\lib\\site-packages\\ipykernel_launcher.py:9: UserWarning: Update your `Dense` call to the Keras 2 API: `Dense(1, activation=\"relu\", kernel_initializer=\"normal\")`\n",
      "  if __name__ == '__main__':\n"
     ]
    }
   ],
   "source": [
    "# Define part of the attention layer gloablly so as to\n",
    "# share the same layers for each attention step.\n",
    "def softmax(x):\n",
    "    return K.softmax(x, axis=1)\n",
    "\n",
    "at_repeat = RepeatVector(Tx)\n",
    "at_concatenate = Concatenate(axis=-1)\n",
    "at_dense1 = Dense(8, activation=\"tanh\", init = \"normal\")  # 初始化方法：uniform、lecun_uniform、normal、orthogonal、zero、glorot_normal、he_normal等\n",
    "at_dense2 = Dense(1, activation=\"relu\", init = \"normal\")\n",
    "at_softmax = Activation(softmax, name='attention_weights')\n",
    "at_dot = Dot(axes=1)\n",
    "\n",
    "def one_step_of_attention(h_prev, a):\n",
    "    \"\"\"\n",
    "    Get the context.\n",
    "    \n",
    "    Input:\n",
    "    h_prev - Previous hidden state of a RNN layer (m, n_h)\n",
    "    a - Input data, possibly processed (m, Tx, n_a)\n",
    "    \n",
    "    Output:\n",
    "    context - Current context (m, Tx, n_a)\n",
    "    \"\"\"\n",
    "    # Repeat vector to match a's dimensions\n",
    "    h_repeat = at_repeat(h_prev)\n",
    "    # Calculate attention weights\n",
    "    i = at_concatenate([a, h_repeat])\n",
    "    i = at_dense1(i)\n",
    "    i = at_dense2(i)\n",
    "    attention = at_softmax(i)\n",
    "    # Calculate the context\n",
    "    context = at_dot([attention, a])\n",
    "    \n",
    "    return context"
   ]
  },
  {
   "cell_type": "code",
   "execution_count": 9,
   "metadata": {},
   "outputs": [],
   "source": [
    "def attention_layer(X, h0, c0, n_h, Ty):\n",
    "    \"\"\"\n",
    "    Creates an attention layer.\n",
    "    \n",
    "    Input:\n",
    "    X - Layer input (m, Tx, x_vocab_size)\n",
    "    n_h - Size of LSTM hidden layer\n",
    "    Ty - Timesteps in output sequence\n",
    "    \n",
    "    Output:\n",
    "    output - The output of the attention layer (m, Tx, n_h)\n",
    "    \"\"\"    \n",
    "    # Define the default state for the LSTM layer\n",
    "#     h = Lambda(lambda X: K.zeros(shape=(K.shape(X)[0], n_h)))(X)  # 翻译时decoder 的初始化可以为0，也可以为encoder 的最后输出\n",
    "    h = h0   # 序列预测时使y用encoder的LSTM state作为初始的state\n",
    "#     c = Lambda(lambda X: K.zeros(shape=(K.shape(X)[0], n_h)))(X)  \n",
    "    c = c0   # 序列预测时使y用encoder的LSTM state作为初始的state\n",
    "    # Messy, but the alternative is using more Input()\n",
    "    \n",
    "    at_LSTM = LSTM(n_h, return_state=True)\n",
    "    \n",
    "    output = []\n",
    "              \n",
    "    # Run attention step and RNN for each output time step\n",
    "    for _ in range(Ty):\n",
    "        context = one_step_of_attention(h, X)\n",
    "        \n",
    "        h, _, c = at_LSTM(context, initial_state=[h, c])\n",
    "        \n",
    "        output.append(h)\n",
    "        \n",
    "    return output"
   ]
  },
  {
   "cell_type": "code",
   "execution_count": 10,
   "metadata": {},
   "outputs": [
    {
     "name": "stderr",
     "output_type": "stream",
     "text": [
      "D:\\Users\\admin\\Anaconda3\\lib\\site-packages\\ipykernel_launcher.py:2: UserWarning: Update your `Dense` call to the Keras 2 API: `Dense(1, activation=\"relu\", kernel_initializer=\"normal\")`\n",
      "  \n"
     ]
    }
   ],
   "source": [
    "# layer3 = Dense(machine_vocab_size, activation=softmax)  # 用于语义处理\n",
    "layer3 = Dense(machine_vocab_size, activation=\"relu\", init = \"normal\")  # 数据预测\n",
    "\n",
    "def get_model(Tx, Ty, layer1_size, layer2_size, x_vocab_size, y_vocab_size):\n",
    "    \"\"\"\n",
    "    Creates a model.\n",
    "    \n",
    "    input:\n",
    "    Tx - Number of x timesteps\n",
    "    Ty - Number of y timesteps\n",
    "    size_layer1 - Number of neurons in BiLSTM\n",
    "    size_layer2 - Number of neurons in attention LSTM hidden layer\n",
    "    x_vocab_size - Number of possible token types for x\n",
    "    y_vocab_size - Number of possible token types for y\n",
    "    \n",
    "    Output:\n",
    "    model - A Keras Model.\n",
    "    \"\"\"\n",
    "    \n",
    "    # Create layers one by one\n",
    "    X = Input(shape=(Tx, x_vocab_size))\n",
    "    \n",
    "    h0 = Lambda(lambda X: K.zeros(shape=(K.shape(X)[0], layer1_size)))(X)\n",
    "    c0 = Lambda(lambda X: K.zeros(shape=(K.shape(X)[0], layer1_size)))(X) \n",
    "    a1, h1, c1 = LSTM(layer1_size, return_sequences=True, return_state = True, init = \"normal\")(X, initial_state=[h0, c0],)\n",
    "\n",
    "    a2 = attention_layer(a1, h1, c1, layer2_size, Ty)\n",
    "    \n",
    "    a3 = [layer3(timestep) for timestep in a2]\n",
    "        \n",
    "    # Create Keras model\n",
    "    model = Model(inputs=[X], outputs=a3)\n",
    "    \n",
    "    return model"
   ]
  },
  {
   "cell_type": "code",
   "execution_count": 11,
   "metadata": {},
   "outputs": [
    {
     "name": "stdout",
     "output_type": "stream",
     "text": [
      "WARNING:tensorflow:From D:\\Users\\admin\\Anaconda3\\lib\\site-packages\\tensorflow\\python\\ops\\resource_variable_ops.py:435: colocate_with (from tensorflow.python.framework.ops) is deprecated and will be removed in a future version.\n",
      "Instructions for updating:\n",
      "Colocations handled automatically by placer.\n"
     ]
    },
    {
     "name": "stderr",
     "output_type": "stream",
     "text": [
      "D:\\Users\\admin\\Anaconda3\\lib\\site-packages\\ipykernel_launcher.py:25: UserWarning: Update your `LSTM` call to the Keras 2 API: `LSTM(4, return_sequences=True, return_state=True, kernel_initializer=\"normal\")`\n"
     ]
    }
   ],
   "source": [
    "# Obtain a model instance\n",
    "model = get_model(Tx, Ty, layer1_size, layer2_size, human_vocab_size, machine_vocab_size)"
   ]
  },
  {
   "cell_type": "code",
   "execution_count": 12,
   "metadata": {},
   "outputs": [],
   "source": [
    "# Create optimizer\n",
    "opt = Adam(lr=0.01, clipnorm=1.0) #  decay=0.04,\n",
    "model.compile(optimizer=opt, loss='mean_squared_error', metrics=['accuracy'])"
   ]
  },
  {
   "cell_type": "code",
   "execution_count": 13,
   "metadata": {},
   "outputs": [],
   "source": [
    "# Group the output by timestep, not example\n",
    "outputs_train = list(Y_train.swapaxes(0,1))"
   ]
  },
  {
   "cell_type": "code",
   "execution_count": 58,
   "metadata": {
    "scrolled": true
   },
   "outputs": [
    {
     "name": "stdout",
     "output_type": "stream",
     "text": [
      "Epoch 1/1\n",
      "800/800 [==============================] - 0s 346us/step - loss: 1.3063e-04 - dense_3_loss: 3.3977e-05 - dense_3_accuracy: 0.0000e+00 - dense_3_accuracy_1: 0.0000e+00 - dense_3_accuracy_2: 0.0000e+00 - dense_3_accuracy_3: 0.0000e+00 - dense_3_accuracy_4: 0.0000e+00\n",
      "163/163 [==============================] - 0s 279us/step\n",
      "Test loss:  0.0016246689610294655\n",
      "Epoch 1/1\n",
      "800/800 [==============================] - 0s 350us/step - loss: 1.2378e-04 - dense_3_loss: 3.2036e-05 - dense_3_accuracy: 0.0000e+00 - dense_3_accuracy_1: 0.0000e+00 - dense_3_accuracy_2: 0.0000e+00 - dense_3_accuracy_3: 0.0000e+00 - dense_3_accuracy_4: 0.0000e+00\n",
      "163/163 [==============================] - 0s 267us/step\n",
      "Test loss:  0.001188922812912236\n"
     ]
    }
   ],
   "source": [
    "# Time to train\n",
    "# It takes a few minutes on an quad-core CPU\n",
    "EPOCH = 2\n",
    "outputs_test = list(Y_test.swapaxes(0,1))\n",
    "\n",
    "for i in range(EPOCH):\n",
    "    model.fit([X_train], outputs_train, epochs=1, batch_size=64)\n",
    "    score = model.evaluate(X_test, outputs_test) \n",
    "    print('Test loss: ', score[0])"
   ]
  },
  {
   "cell_type": "code",
   "execution_count": 44,
   "metadata": {},
   "outputs": [
    {
     "name": "stdout",
     "output_type": "stream",
     "text": [
      "163/163 [==============================] - 0s 307us/step\n",
      "Test loss:  0.0016077523665399822\n"
     ]
    }
   ],
   "source": [
    "# Evaluate the test performance\n",
    "outputs_test = list(Y_test.swapaxes(0,1))\n",
    "score = model.evaluate(X_test, outputs_test) \n",
    "print('Test loss: ', score[0])"
   ]
  },
  {
   "cell_type": "code",
   "execution_count": 64,
   "metadata": {},
   "outputs": [
    {
     "data": {
      "text/plain": [
       "[<matplotlib.lines.Line2D at 0x24320caee48>]"
      ]
     },
     "execution_count": 64,
     "metadata": {},
     "output_type": "execute_result"
    },
    {
     "data": {
      "image/png": "[encoded data removed]",
      "text/plain": [
       "<Figure size 432x288 with 1 Axes>"
      ]
     },
     "metadata": {
      "needs_background": "light"
     },
     "output_type": "display_data"
    }
   ],
   "source": [
    "prediction = np.array(model.predict( X_test))\n",
    "\n",
    "plt.plot(prediction[2,:,0])\n",
    "plt.plot(Y_test.swapaxes(0,1)[2,:,0])\n",
    "# plt.plot(Y_test.swapaxes(0,1)[0,:,0]-prediction[0,:,0])"
   ]
  },
  {
   "cell_type": "code",
   "execution_count": 46,
   "metadata": {},
   "outputs": [
    {
     "name": "stdout",
     "output_type": "stream",
     "text": [
      "Input: [[0.25017906 0.25278224 0.25539431 0.2580152  0.26064479 0.263283\n",
      "  0.26592973 0.26858489 0.27124838 0.27392011 0.27659997 0.27928788\n",
      "  0.28198373 0.28468743 0.28739889 0.29011799 0.29284465 0.29557877\n",
      "  0.29832025 0.30106899 0.30382489 0.30658785 0.30935778 0.31213456\n",
      "  0.31491812 0.31770833 0.32050511 0.32330834 0.32611794 0.3289338\n",
      "  0.33175582 0.3345839 ]]\n",
      "Prediction:  [0.3160552  0.32926172 0.3376398  0.34659165 0.35710132]\n",
      "real value:  [0.33741792 0.34025781 0.34310344 0.34595472 0.34881155]\n",
      "error value: [ 0.02136272  0.01099609  0.00546363 -0.00063693 -0.00828977]\n"
     ]
    }
   ],
   "source": [
    "# Let's visually check model output.\n",
    "import random as random\n",
    "\n",
    "i = random.randint(0, data_len-Ty-Ty)\n",
    "i = 960\n",
    "\n",
    "def get_prediction(model, x):\n",
    "    prediction = model.predict(x)\n",
    "    \n",
    "    return prediction\n",
    "\n",
    "prediction = get_prediction(model, X[i:i+1])\n",
    "\n",
    "print(\"Input: \" + str(X[i].T))\n",
    "print(\"Prediction: \" , np.array(prediction).swapaxes(0,2)[0][0])\n",
    "print(\"real value: \" , np.array(Y[i]).swapaxes(0,1)[0])\n",
    "print(\"error value:\" , np.array(Y[i]).swapaxes(0,1)[0]-np.array(prediction).swapaxes(0,2)[0][0])"
   ]
  },
  {
   "cell_type": "markdown",
   "metadata": {},
   "source": [
    "### rolling predict"
   ]
  },
  {
   "cell_type": "code",
   "execution_count": 69,
   "metadata": {},
   "outputs": [
    {
     "data": {
      "text/plain": [
       "(1, 32, 1)"
      ]
     },
     "execution_count": 69,
     "metadata": {},
     "output_type": "execute_result"
    }
   ],
   "source": [
    "i = 1\n",
    "X_test[i:i+1][0,-1,0].shape"
   ]
  },
  {
   "cell_type": "code",
   "execution_count": 70,
   "metadata": {},
   "outputs": [
    {
     "data": {
      "text/plain": [
       "0.0194185687360256"
      ]
     },
     "execution_count": 70,
     "metadata": {},
     "output_type": "execute_result"
    }
   ],
   "source": [
    "X_test[i:i+1][0,-1,0]"
   ]
  },
  {
   "cell_type": "code",
   "execution_count": 99,
   "metadata": {},
   "outputs": [
    {
     "data": {
      "text/plain": [
       "800"
      ]
     },
     "execution_count": 99,
     "metadata": {},
     "output_type": "execute_result"
    }
   ],
   "source": [
    "test_num"
   ]
  },
  {
   "cell_type": "code",
   "execution_count": 96,
   "metadata": {},
   "outputs": [],
   "source": [
    "test_num = train_size\n",
    "\n",
    "pred = []\n",
    "for i in range(test_num,test_num+20):\n",
    "    if i == test_num:\n",
    "        R_test = X[i:i+1]\n",
    "        prediction = np.array(model.predict(R_test))\n",
    "        pred.append(prediction)\n",
    "    else:\n",
    "        R_test[0,0:Tx-1,0] = R_test[0,1:,0]\n",
    "        R_test[0,-1,0] = prediction[0,0,0]\n",
    "        prediction = np.array(model.predict(R_test))\n",
    "        pred.append(prediction)\n",
    "pred = np.array(pred)"
   ]
  },
  {
   "cell_type": "code",
   "execution_count": 93,
   "metadata": {},
   "outputs": [],
   "source": [
    "pred = np.array(pred)"
   ]
  },
  {
   "cell_type": "code",
   "execution_count": 97,
   "metadata": {},
   "outputs": [
    {
     "data": {
      "text/plain": [
       "(20, 5, 1, 1)"
      ]
     },
     "execution_count": 97,
     "metadata": {},
     "output_type": "execute_result"
    }
   ],
   "source": [
    "pred.shape"
   ]
  },
  {
   "cell_type": "code",
   "execution_count": 98,
   "metadata": {},
   "outputs": [
    {
     "data": {
      "text/plain": [
       "[<matplotlib.lines.Line2D at 0x24321042f88>]"
      ]
     },
     "execution_count": 98,
     "metadata": {},
     "output_type": "execute_result"
    },
    {
     "data": {
      "image/png": "[encoded data removed]",
      "text/plain": [
       "<Figure size 432x288 with 1 Axes>"
      ]
     },
     "metadata": {
      "needs_background": "light"
     },
     "output_type": "display_data"
    }
   ],
   "source": [
    "plt.plot(pred[:,0,0,0])"
   ]
  },
  {
   "cell_type": "code",
   "execution_count": null,
   "metadata": {},
   "outputs": [],
   "source": [
    "# predict all data\n",
    "n_steps = TIME_STEPS\n",
    "split_point = 250\n",
    "test_num = 250\n",
    "for test_num in range(split_point,len(s)-(n_steps+1)):\n",
    "    \n",
    "    \n",
    "    all_df = pd.DataFrame()\n",
    "    for i in range(test_num,len(s)-(n_steps+1)+50):\n",
    "        if i == test_num:\n",
    "            batch_index = np.arange(i,i+1)\n",
    "            batch = ts.get_one_batch(batch_index, n_steps)  # next_batch(self, batch_num, n_steps):\n",
    "        else:\n",
    "            a = np.array(batch[1]).reshape( n_steps)\n",
    "            a = np.append(a,pred)\n",
    "            input_data = np.array(a)\n",
    "            batch = tuple([input_data[:-1].reshape(-1, n_steps, 1), input_data[1:].reshape(-1, n_steps, 1)]) \n",
    "        tot_res = get_predict(dp_model,batch)\n",
    "        pred = tot_res.loc[TIME_STEPS-1,\"mu\"]\n",
    "        all_df = pd.concat([all_df,tot_res], axis = 0)\n",
    "\n",
    "    #  save \n",
    "    predict_df = all_df.loc[all_df.index.values == n_steps-1, :]\n",
    "    predict_df = predict_df.reset_index(drop = True)\n",
    "    predict_df.to_csv(\"./output/predict_num/result_test_DeepAR_\"+ str(test_num) +\".csv\",index = False)"
   ]
  },
  {
   "cell_type": "code",
   "execution_count": 59,
   "metadata": {
    "scrolled": true
   },
   "outputs": [
    {
     "name": "stderr",
     "output_type": "stream",
     "text": [
      "D:\\Users\\admin\\Anaconda3\\lib\\site-packages\\matplotlib\\text.py:1150: FutureWarning: elementwise comparison failed; returning scalar instead, but in the future will perform elementwise comparison\n",
      "  if s != self._text:\n"
     ]
    },
    {
     "data": {
      "image/png": "[encoded data removed]",
      "text/plain": [
       "<Figure size 1440x129.6 with 2 Axes>"
      ]
     },
     "metadata": {
      "needs_background": "light"
     },
     "output_type": "display_data"
    }
   ],
   "source": [
    "i = random.randint(0, data_len-Ty-Ty)\n",
    "human_vocab = np.arange(human_vocab_size)\n",
    "\n",
    "def plot_attention_graph(model, x, Tx, Ty, human_vocab, layer=7):\n",
    "    # Process input\n",
    "#     tokens = np.array([tokenize(x, human_vocab, Tx)])\n",
    "#     tokens_oh = oh_2d(tokens, len(human_vocab))\n",
    "    i = random.randint(0, len(x))\n",
    "    tokens_oh = [X[i:i+1]]\n",
    "    \n",
    "    # Monitor model layer\n",
    "    layer = model.layers[layer]\n",
    "    \n",
    "    layer_over_time = K.function(model.inputs, [layer.get_output_at(t) for t in range(Ty)])\n",
    "    layer_output = layer_over_time([tokens_oh])\n",
    "    layer_output = [row.flatten().tolist() for row in layer_output]\n",
    "    \n",
    "    # Get model output\n",
    "    prediction = get_prediction(model, tokens_oh)[1]\n",
    "    \n",
    "    # Graph the data\n",
    "    fig = plt.figure()\n",
    "    fig.set_figwidth(20)\n",
    "    fig.set_figheight(1.8)\n",
    "    ax = fig.add_subplot(111)\n",
    "    \n",
    "    plt.title(\"Attention Values per Timestep\")\n",
    "    \n",
    "    plt.rc('figure')\n",
    "    cax = plt.imshow(layer_output, vmin=0, vmax=1)\n",
    "    fig.colorbar(cax)\n",
    "    \n",
    "    plt.xlabel(\"Input\")\n",
    "    ax.set_xticks(range(Tx))\n",
    "    ax.set_xticklabels(x)\n",
    "    \n",
    "    plt.ylabel(\"Output\")\n",
    "    ax.set_yticks(range(Ty))\n",
    "    ax.set_yticklabels(prediction)\n",
    "    \n",
    "    plt.show()\n",
    "    \n",
    "plot_attention_graph(model, X[i][0], Tx, Ty, human_vocab)"
   ]
  },
  {
   "cell_type": "code",
   "execution_count": null,
   "metadata": {},
   "outputs": [],
   "source": []
  }
 ],
 "metadata": {
  "kernelspec": {
   "display_name": "Python 3",
   "language": "python",
   "name": "python3"
  },
  "language_info": {
   "codemirror_mode": {
    "name": "ipython",
    "version": 3
   },
   "file_extension": ".py",
   "mimetype": "text/x-python",
   "name": "python",
   "nbconvert_exporter": "python",
   "pygments_lexer": "ipython3",
   "version": "3.7.4"
  }
 },
 "nbformat": 4,
 "nbformat_minor": 2
}

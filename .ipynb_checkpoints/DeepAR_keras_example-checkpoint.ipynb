{
 "cells": [
  {
   "cell_type": "code",
   "execution_count": 3,
   "metadata": {},
   "outputs": [],
   "source": [
    "from mylab import *\n",
    "from deepar.dataset.time_series import MockTs\n",
    "from deepar.model.lstm import DeepAR\n",
    "\n",
    "\n",
    "%matplotlib inline\n",
    "from numpy.random import normal\n",
    "import tqdm\n",
    "import pandas as pd\n",
    "from matplotlib import pyplot as plt\n",
    "import numpy as np\n",
    "import warnings\n",
    "warnings.filterwarnings('ignore')"
   ]
  },
  {
   "cell_type": "markdown",
   "metadata": {},
   "source": [
    "# original test code"
   ]
  },
  {
   "cell_type": "code",
   "execution_count": 4,
   "metadata": {},
   "outputs": [
    {
     "name": "stdout",
     "output_type": "stream",
     "text": [
      "WARNING:tensorflow:From G:\\jupyter-notebook\\PHMe20\\deepar\\model\\loss.py:6: The name tf.log is deprecated. Please use tf.math.log instead.\n",
      "\n",
      "WARNING:tensorflow:From G:\\jupyter-notebook\\PHMe20\\deepar\\model\\loss.py:6: div (from tensorflow.python.ops.math_ops) is deprecated and will be removed in a future version.\n",
      "Instructions for updating:\n",
      "Deprecated in favor of operator or tf.math.divide.\n",
      "WARNING:tensorflow:From D:\\Users\\admin\\Anaconda3\\lib\\site-packages\\keras\\backend\\tensorflow_backend.py:422: The name tf.global_variables is deprecated. Please use tf.compat.v1.global_variables instead.\n",
      "\n",
      "Epoch 1/50\n",
      "50/50 [==============================] - ETA: 32s - loss: 8.47 - ETA: 8s - loss: 8.4054 - ETA: 4s - loss: 19.29 - ETA: 2s - loss: 21.67 - ETA: 1s - loss: 18.12 - ETA: 1s - loss: 18.22 - ETA: 0s - loss: 21.34 - ETA: 0s - loss: 20.72 - ETA: 0s - loss: 20.93 - ETA: 0s - loss: 19.36 - ETA: 0s - loss: 20.41 - 1s 25ms/step - loss: 20.8085\n",
      "Epoch 2/50\n",
      "50/50 [==============================] - ETA: 0s - loss: 8.181 - ETA: 0s - loss: 22.92 - ETA: 0s - loss: 23.00 - ETA: 0s - loss: 26.06 - ETA: 0s - loss: 24.76 - ETA: 0s - loss: 21.39 - ETA: 0s - loss: 21.54 - ETA: 0s - loss: 21.18 - ETA: 0s - loss: 21.59 - 0s 9ms/step - loss: 21.3402\n",
      "Epoch 3/50\n",
      "50/50 [==============================] - ETA: 0s - loss: 7.073 - ETA: 0s - loss: 28.70 - ETA: 0s - loss: 19.88 - ETA: 0s - loss: 19.75 - ETA: 0s - loss: 21.36 - ETA: 0s - loss: 20.88 - ETA: 0s - loss: 21.03 - ETA: 0s - loss: 21.04 - ETA: 0s - loss: 19.90 - 0s 9ms/step - loss: 19.6347\n",
      "Epoch 4/50\n",
      "50/50 [==============================] - ETA: 0s - loss: 74.65 - ETA: 0s - loss: 16.85 - ETA: 0s - loss: 15.55 - ETA: 0s - loss: 15.10 - ETA: 0s - loss: 15.34 - ETA: 0s - loss: 14.68 - ETA: 0s - loss: 15.46 - ETA: 0s - loss: 14.84 - ETA: 0s - loss: 13.87 - 0s 9ms/step - loss: 13.7320\n",
      "Epoch 5/50\n",
      "50/50 [==============================] - ETA: 0s - loss: 7.266 - ETA: 0s - loss: 21.29 - ETA: 0s - loss: 17.61 - ETA: 0s - loss: 14.37 - ETA: 0s - loss: 14.41 - ETA: 0s - loss: 15.47 - ETA: 0s - loss: 15.25 - ETA: 0s - loss: 17.12 - 0s 8ms/step - loss: 16.9735\n",
      "Epoch 6/50\n",
      "50/50 [==============================] - ETA: 0s - loss: 68.10 - ETA: 0s - loss: 21.78 - ETA: 0s - loss: 15.88 - ETA: 0s - loss: 16.97 - ETA: 0s - loss: 15.59 - ETA: 0s - loss: 16.42 - ETA: 0s - loss: 16.94 - ETA: 0s - loss: 16.70 - 0s 8ms/step - loss: 16.6606\n",
      "Epoch 7/50\n",
      "50/50 [==============================] - ETA: 0s - loss: 7.529 - ETA: 0s - loss: 15.90 - ETA: 0s - loss: 16.29 - ETA: 0s - loss: 16.84 - ETA: 0s - loss: 16.88 - ETA: 0s - loss: 16.07 - ETA: 0s - loss: 16.99 - ETA: 0s - loss: 16.91 - 0s 8ms/step - loss: 16.9177\n",
      "Epoch 8/50\n",
      "50/50 [==============================] - ETA: 0s - loss: 6.465 - ETA: 0s - loss: 17.91 - ETA: 0s - loss: 20.68 - ETA: 0s - loss: 17.60 - ETA: 0s - loss: 15.87 - ETA: 0s - loss: 15.55 - ETA: 0s - loss: 14.97 - ETA: 0s - loss: 15.59 - 0s 8ms/step - loss: 15.2955\n",
      "Epoch 9/50\n",
      "50/50 [==============================] - ETA: 0s - loss: 35.60 - ETA: 0s - loss: 11.97 - ETA: 0s - loss: 9.3869 - ETA: 0s - loss: 8.442 - ETA: 0s - loss: 13.10 - ETA: 0s - loss: 14.04 - ETA: 0s - loss: 15.49 - ETA: 0s - loss: 16.16 - 0s 8ms/step - loss: 16.0063\n",
      "Epoch 10/50\n",
      "50/50 [==============================] - ETA: 0s - loss: 7.168 - ETA: 0s - loss: 15.67 - ETA: 0s - loss: 14.16 - ETA: 0s - loss: 17.71 - ETA: 0s - loss: 16.00 - ETA: 0s - loss: 16.62 - ETA: 0s - loss: 15.56 - ETA: 0s - loss: 14.26 - 0s 8ms/step - loss: 14.5567\n",
      "Epoch 11/50\n",
      "50/50 [==============================] - ETA: 0s - loss: 6.788 - ETA: 0s - loss: 16.14 - ETA: 0s - loss: 16.15 - ETA: 0s - loss: 17.18 - ETA: 0s - loss: 16.00 - ETA: 0s - loss: 17.21 - ETA: 0s - loss: 16.41 - 0s 8ms/step - loss: 16.8567\n",
      "Epoch 12/50\n",
      "50/50 [==============================] - ETA: 0s - loss: 22.89 - ETA: 0s - loss: 9.2717 - ETA: 0s - loss: 10.29 - ETA: 0s - loss: 11.96 - ETA: 0s - loss: 13.73 - ETA: 0s - loss: 13.25 - ETA: 0s - loss: 13.79 - ETA: 0s - loss: 13.31 - 0s 8ms/step - loss: 13.1689\n",
      "Epoch 13/50\n",
      "50/50 [==============================] - ETA: 0s - loss: 6.310 - ETA: 0s - loss: 9.553 - ETA: 0s - loss: 11.94 - ETA: 0s - loss: 11.26 - ETA: 0s - loss: 10.35 - ETA: 0s - loss: 10.79 - ETA: 0s - loss: 10.43 - ETA: 0s - loss: 10.65 - 0s 8ms/step - loss: 10.5745\n",
      "Epoch 14/50\n",
      "50/50 [==============================] - ETA: 0s - loss: 32.62 - ETA: 0s - loss: 12.91 - ETA: 0s - loss: 10.63 - ETA: 0s - loss: 10.71 - ETA: 0s - loss: 11.23 - ETA: 0s - loss: 10.85 - ETA: 0s - loss: 10.93 - ETA: 0s - loss: 10.66 - 0s 8ms/step - loss: 10.2897\n",
      "Epoch 15/50\n",
      "50/50 [==============================] - ETA: 0s - loss: 6.634 - ETA: 0s - loss: 13.60 - ETA: 0s - loss: 10.87 - ETA: 0s - loss: 10.26 - ETA: 0s - loss: 9.4799 - ETA: 0s - loss: 10.54 - ETA: 0s - loss: 10.47 - 0s 8ms/step - loss: 10.5530\n",
      "Epoch 16/50\n",
      "50/50 [==============================] - ETA: 0s - loss: 20.77 - ETA: 0s - loss: 10.05 - ETA: 0s - loss: 8.8582 - ETA: 0s - loss: 9.997 - ETA: 0s - loss: 9.124 - ETA: 0s - loss: 9.275 - ETA: 0s - loss: 9.361 - 0s 7ms/step - loss: 9.6169\n",
      "Epoch 17/50\n",
      "50/50 [==============================] - ETA: 0s - loss: 6.470 - ETA: 0s - loss: 9.565 - ETA: 0s - loss: 9.236 - ETA: 0s - loss: 9.277 - ETA: 0s - loss: 9.563 - ETA: 0s - loss: 9.008 - ETA: 0s - loss: 8.728 - 0s 7ms/step - loss: 8.6280\n",
      "Epoch 18/50\n",
      "50/50 [==============================] - ETA: 0s - loss: 6.545 - ETA: 0s - loss: 9.124 - ETA: 0s - loss: 8.823 - ETA: 0s - loss: 9.299 - ETA: 0s - loss: 8.986 - ETA: 0s - loss: 9.026 - ETA: 0s - loss: 9.298 - 0s 7ms/step - loss: 9.6244\n",
      "Epoch 19/50\n",
      "50/50 [==============================] - ETA: 0s - loss: 6.835 - ETA: 0s - loss: 9.638 - ETA: 0s - loss: 8.872 - ETA: 0s - loss: 9.646 - ETA: 0s - loss: 11.17 - ETA: 0s - loss: 11.40 - ETA: 0s - loss: 11.11 - 0s 7ms/step - loss: 10.7542\n",
      "Epoch 20/50\n",
      "50/50 [==============================] - ETA: 0s - loss: 6.219 - ETA: 0s - loss: 10.43 - ETA: 0s - loss: 8.6090 - ETA: 0s - loss: 8.318 - ETA: 0s - loss: 9.684 - ETA: 0s - loss: 9.615 - ETA: 0s - loss: 10.30 - 0s 7ms/step - loss: 10.0637\n",
      "Epoch 21/50\n",
      "50/50 [==============================] - ETA: 0s - loss: 6.159 - ETA: 0s - loss: 6.705 - ETA: 0s - loss: 9.582 - ETA: 0s - loss: 8.638 - ETA: 0s - loss: 9.323 - ETA: 0s - loss: 8.768 - ETA: 0s - loss: 8.320 - 0s 7ms/step - loss: 8.8306\n",
      "Epoch 22/50\n",
      "50/50 [==============================] - ETA: 0s - loss: 6.101 - ETA: 0s - loss: 9.248 - ETA: 0s - loss: 9.901 - ETA: 0s - loss: 8.732 - ETA: 0s - loss: 8.919 - ETA: 0s - loss: 8.561 - ETA: 0s - loss: 8.854 - 0s 7ms/step - loss: 8.8428\n",
      "Epoch 23/50\n",
      "50/50 [==============================] - ETA: 0s - loss: 6.507 - ETA: 0s - loss: 9.568 - ETA: 0s - loss: 11.92 - ETA: 0s - loss: 11.72 - ETA: 0s - loss: 11.57 - ETA: 0s - loss: 11.22 - ETA: 0s - loss: 10.88 - 0s 7ms/step - loss: 10.9117\n",
      "Epoch 24/50\n",
      "50/50 [==============================] - ETA: 0s - loss: 16.70 - ETA: 0s - loss: 11.33 - ETA: 0s - loss: 9.9802 - ETA: 0s - loss: 10.87 - ETA: 0s - loss: 10.31 - ETA: 0s - loss: 10.60 - ETA: 0s - loss: 9.9199 - 0s 7ms/step - loss: 9.8510\n",
      "Epoch 25/50\n",
      "50/50 [==============================] - ETA: 0s - loss: 6.347 - ETA: 0s - loss: 7.328 - ETA: 0s - loss: 7.906 - ETA: 0s - loss: 8.030 - ETA: 0s - loss: 8.594 - ETA: 0s - loss: 8.647 - ETA: 0s - loss: 8.451 - 0s 7ms/step - loss: 8.4073\n",
      "Epoch 26/50\n",
      "50/50 [==============================] - ETA: 0s - loss: 9.154 - ETA: 0s - loss: 12.03 - ETA: 0s - loss: 10.05 - ETA: 0s - loss: 9.5413 - ETA: 0s - loss: 9.284 - ETA: 0s - loss: 9.406 - ETA: 0s - loss: 8.962 - 0s 7ms/step - loss: 8.9122\n",
      "Epoch 27/50\n",
      "50/50 [==============================] - ETA: 0s - loss: 18.08 - ETA: 0s - loss: 7.9505 - ETA: 0s - loss: 7.247 - ETA: 0s - loss: 8.098 - ETA: 0s - loss: 8.439 - ETA: 0s - loss: 8.065 - ETA: 0s - loss: 8.655 - 0s 7ms/step - loss: 8.6080\n",
      "Epoch 28/50\n",
      "50/50 [==============================] - ETA: 0s - loss: 6.354 - ETA: 0s - loss: 7.879 - ETA: 0s - loss: 7.330 - ETA: 0s - loss: 8.092 - ETA: 0s - loss: 9.125 - ETA: 0s - loss: 8.996 - ETA: 0s - loss: 8.856 - 0s 7ms/step - loss: 8.9264\n",
      "Epoch 29/50\n"
     ]
    },
    {
     "name": "stdout",
     "output_type": "stream",
     "text": [
      "50/50 [==============================] - ETA: 0s - loss: 6.250 - ETA: 0s - loss: 7.981 - ETA: 0s - loss: 7.945 - ETA: 0s - loss: 8.835 - ETA: 0s - loss: 8.806 - ETA: 0s - loss: 8.917 - ETA: 0s - loss: 8.754 - 0s 7ms/step - loss: 8.7079\n",
      "Epoch 30/50\n",
      "50/50 [==============================] - ETA: 0s - loss: 6.323 - ETA: 0s - loss: 7.562 - ETA: 0s - loss: 7.105 - ETA: 0s - loss: 7.136 - ETA: 0s - loss: 7.034 - ETA: 0s - loss: 7.136 - ETA: 0s - loss: 7.228 - 0s 7ms/step - loss: 7.2063\n",
      "Epoch 31/50\n",
      "50/50 [==============================] - ETA: 0s - loss: 6.113 - ETA: 0s - loss: 8.145 - ETA: 0s - loss: 7.900 - ETA: 0s - loss: 7.767 - ETA: 0s - loss: 8.142 - ETA: 0s - loss: 7.826 - ETA: 0s - loss: 7.571 - 0s 7ms/step - loss: 7.6549\n",
      "Epoch 32/50\n",
      "50/50 [==============================] - ETA: 0s - loss: 12.76 - ETA: 0s - loss: 8.0789 - ETA: 0s - loss: 8.362 - ETA: 0s - loss: 7.952 - ETA: 0s - loss: 7.792 - ETA: 0s - loss: 7.689 - ETA: 0s - loss: 7.620 - 0s 7ms/step - loss: 7.5626\n",
      "Epoch 33/50\n",
      "50/50 [==============================] - ETA: 0s - loss: 7.162 - ETA: 0s - loss: 6.998 - ETA: 0s - loss: 7.128 - ETA: 0s - loss: 7.754 - ETA: 0s - loss: 7.689 - ETA: 0s - loss: 7.441 - ETA: 0s - loss: 7.522 - 0s 7ms/step - loss: 7.4370\n",
      "Epoch 34/50\n",
      "50/50 [==============================] - ETA: 0s - loss: 11.79 - ETA: 0s - loss: 6.8149 - ETA: 0s - loss: 6.880 - ETA: 0s - loss: 6.777 - ETA: 0s - loss: 6.641 - ETA: 0s - loss: 6.726 - ETA: 0s - loss: 6.645 - 0s 7ms/step - loss: 6.7521\n",
      "Epoch 35/50\n",
      "50/50 [==============================] - ETA: 0s - loss: 11.91 - ETA: 0s - loss: 8.5878 - ETA: 0s - loss: 7.503 - ETA: 0s - loss: 7.549 - ETA: 0s - loss: 7.234 - ETA: 0s - loss: 7.190 - ETA: 0s - loss: 7.045 - 0s 7ms/step - loss: 7.0460\n",
      "Epoch 36/50\n",
      "50/50 [==============================] - ETA: 0s - loss: 6.069 - ETA: 0s - loss: 6.770 - ETA: 0s - loss: 6.853 - ETA: 0s - loss: 6.994 - ETA: 0s - loss: 7.091 - ETA: 0s - loss: 7.100 - ETA: 0s - loss: 7.103 - 0s 7ms/step - loss: 7.0473\n",
      "Epoch 37/50\n",
      "50/50 [==============================] - ETA: 0s - loss: 6.064 - ETA: 0s - loss: 7.038 - ETA: 0s - loss: 7.268 - ETA: 0s - loss: 7.316 - ETA: 0s - loss: 7.033 - ETA: 0s - loss: 7.118 - ETA: 0s - loss: 7.223 - 0s 7ms/step - loss: 7.2167\n",
      "Epoch 38/50\n",
      "50/50 [==============================] - ETA: 0s - loss: 6.616 - ETA: 0s - loss: 8.160 - ETA: 0s - loss: 7.177 - ETA: 0s - loss: 7.319 - ETA: 0s - loss: 7.174 - ETA: 0s - loss: 7.071 - ETA: 0s - loss: 7.072 - 0s 7ms/step - loss: 7.1249\n",
      "Epoch 39/50\n",
      "50/50 [==============================] - ETA: 0s - loss: 8.635 - ETA: 0s - loss: 7.208 - ETA: 0s - loss: 7.205 - ETA: 0s - loss: 7.071 - ETA: 0s - loss: 6.893 - ETA: 0s - loss: 6.845 - ETA: 0s - loss: 6.798 - 0s 7ms/step - loss: 6.7885\n",
      "Epoch 40/50\n",
      "50/50 [==============================] - ETA: 0s - loss: 5.989 - ETA: 0s - loss: 6.863 - ETA: 0s - loss: 7.109 - ETA: 0s - loss: 6.837 - ETA: 0s - loss: 6.728 - ETA: 0s - loss: 6.647 - ETA: 0s - loss: 6.563 - 0s 7ms/step - loss: 6.5713\n",
      "Epoch 41/50\n",
      "50/50 [==============================] - ETA: 0s - loss: 6.332 - ETA: 0s - loss: 6.500 - ETA: 0s - loss: 6.549 - ETA: 0s - loss: 6.746 - ETA: 0s - loss: 6.653 - ETA: 0s - loss: 6.742 - ETA: 0s - loss: 6.722 - 0s 7ms/step - loss: 6.7150\n",
      "Epoch 42/50\n",
      "50/50 [==============================] - ETA: 0s - loss: 6.721 - ETA: 0s - loss: 6.392 - ETA: 0s - loss: 6.860 - ETA: 0s - loss: 6.860 - ETA: 0s - loss: 6.731 - ETA: 0s - loss: 6.635 - ETA: 0s - loss: 6.702 - 0s 7ms/step - loss: 6.7213\n",
      "Epoch 43/50\n",
      "50/50 [==============================] - ETA: 0s - loss: 6.027 - ETA: 0s - loss: 6.207 - ETA: 0s - loss: 6.670 - ETA: 0s - loss: 6.658 - ETA: 0s - loss: 6.539 - ETA: 0s - loss: 6.571 - ETA: 0s - loss: 6.486 - 0s 7ms/step - loss: 6.4777\n",
      "Epoch 44/50\n",
      "50/50 [==============================] - ETA: 0s - loss: 5.965 - ETA: 0s - loss: 7.236 - ETA: 0s - loss: 6.967 - ETA: 0s - loss: 6.757 - ETA: 0s - loss: 6.612 - ETA: 0s - loss: 6.580 - ETA: 0s - loss: 6.610 - 0s 7ms/step - loss: 6.6580\n",
      "Epoch 45/50\n",
      "50/50 [==============================] - ETA: 0s - loss: 5.958 - ETA: 0s - loss: 6.466 - ETA: 0s - loss: 6.373 - ETA: 0s - loss: 6.304 - ETA: 0s - loss: 6.263 - ETA: 0s - loss: 6.250 - ETA: 0s - loss: 6.341 - 0s 7ms/step - loss: 6.3262\n",
      "Epoch 46/50\n",
      "50/50 [==============================] - ETA: 0s - loss: 5.971 - ETA: 0s - loss: 6.132 - ETA: 0s - loss: 6.458 - ETA: 0s - loss: 6.431 - ETA: 0s - loss: 6.498 - ETA: 0s - loss: 6.487 - ETA: 0s - loss: 6.491 - 0s 7ms/step - loss: 6.4799\n",
      "Epoch 47/50\n",
      "50/50 [==============================] - ETA: 0s - loss: 6.669 - ETA: 0s - loss: 6.546 - ETA: 0s - loss: 6.632 - ETA: 0s - loss: 6.622 - ETA: 0s - loss: 6.766 - ETA: 0s - loss: 6.761 - ETA: 0s - loss: 6.689 - 0s 7ms/step - loss: 6.6742\n",
      "Epoch 48/50\n",
      "50/50 [==============================] - ETA: 0s - loss: 5.864 - ETA: 0s - loss: 6.497 - ETA: 0s - loss: 6.647 - ETA: 0s - loss: 6.592 - ETA: 0s - loss: 6.546 - ETA: 0s - loss: 6.636 - ETA: 0s - loss: 6.650 - 0s 7ms/step - loss: 6.6701\n",
      "Epoch 49/50\n",
      "50/50 [==============================] - ETA: 0s - loss: 5.887 - ETA: 0s - loss: 6.040 - ETA: 0s - loss: 6.215 - ETA: 0s - loss: 6.334 - ETA: 0s - loss: 6.279 - ETA: 0s - loss: 6.356 - ETA: 0s - loss: 6.336 - 0s 7ms/step - loss: 6.3351\n",
      "Epoch 50/50\n",
      "50/50 [==============================] - ETA: 0s - loss: 5.973 - ETA: 0s - loss: 6.050 - ETA: 0s - loss: 6.275 - ETA: 0s - loss: 6.256 - ETA: 0s - loss: 6.311 - ETA: 0s - loss: 6.426 - ETA: 0s - loss: 6.412 - 0s 7ms/step - loss: 6.4104\n"
     ]
    }
   ],
   "source": [
    "# load data and define model\n",
    "ts = MockTs()\n",
    "dp_model = DeepAR(ts, epochs=50)\n",
    "dp_model.instantiate_and_fit()"
   ]
  },
  {
   "cell_type": "code",
   "execution_count": 7,
   "metadata": {},
   "outputs": [],
   "source": [
    "def get_sample_prediction(sample, fn):\n",
    "    sample = np.array(sample).reshape(1, 20, 1)\n",
    "    output = fn([sample])\n",
    "    samples = []\n",
    "    for mu,sigma in zip(output[0].reshape(20), output[1].reshape(20)):\n",
    "        # normal generate a random number(float), which is Gaussian distrubution\n",
    "        samples.append(normal(loc=mu, scale=np.sqrt(sigma), size=1)[0])\n",
    "    return np.array(samples)"
   ]
  },
  {
   "cell_type": "code",
   "execution_count": 68,
   "metadata": {},
   "outputs": [
    {
     "name": "stderr",
     "output_type": "stream",
     "text": [
      "100%|██████████| 300/300 [00:00<00:00, 529.68it/s]\n"
     ]
    },
    {
     "data": {
      "text/plain": [
       "Text(0.5, 1.0, 'Prediction uncertainty')"
      ]
     },
     "execution_count": 68,
     "metadata": {},
     "output_type": "execute_result"
    },
    {
     "data": {
      "image/png": "[encoded data removed]",
      "text/plain": [
       "<Figure size 432x288 with 1 Axes>"
      ]
     },
     "metadata": {
      "needs_background": "light"
     },
     "output_type": "display_data"
    }
   ],
   "source": [
    "# next_batch(self, batch_size, n_steps,target_var='target', verbose=False, padding_value=0) \n",
    "# ---> return a tuple X (feature space), y\n",
    "# X = ( batch_size, n_steps, -1 )\n",
    "batch = ts.next_batch(1, 20)\n",
    "\n",
    "ress = []\n",
    "# tqdm 只是产生一个进度条\n",
    "for i in tqdm.tqdm(range(300)):\n",
    "    # predict_theta_from_input : 每次预测产生模型（高斯模型）的参数【均值，方差】数据, which is the optimal parameter value of Gaussion\n",
    "    # get_sample_prediction : 得到预测值，进去多少个就产生多少个\n",
    "    # get_sample_prediction 过程中并不会继续改变模型参数（即没有在训练），所以其实这个重复产生theta的过程是多余的\n",
    "    ress.append(get_sample_prediction(batch[0], dp_model.predict_theta_from_input))\n",
    "\n",
    "res_df = pd.DataFrame(ress).T\n",
    "tot_res = res_df\n",
    "\n",
    "plt.plot(batch[1].reshape(20), linewidth=6)\n",
    "tot_res['mu'] = tot_res.apply(lambda x: np.mean(x), axis=1)\n",
    "tot_res['upper'] = tot_res.apply(lambda x: np.mean(x) + np.std(x), axis=1)\n",
    "tot_res['lower'] = tot_res.apply(lambda x: np.mean(x) - np.std(x), axis=1)\n",
    "tot_res['two_upper'] = tot_res.apply(lambda x: np.mean(x) + 2*np.std(x), axis=1)\n",
    "tot_res['two_lower'] = tot_res.apply(lambda x: np.mean(x) - 2*np.std(x), axis=1)\n",
    "\n",
    "plt.plot(tot_res.mu, 'bo')\n",
    "plt.plot(tot_res.mu, linewidth=2)\n",
    "plt.fill_between(x = tot_res.index, y1=tot_res.lower, y2=tot_res.upper, alpha=0.5)\n",
    "plt.fill_between(x = tot_res.index, y1=tot_res.two_lower, y2=tot_res.two_upper, alpha=0.5)\n",
    "plt.title('Prediction uncertainty')"
   ]
  },
  {
   "cell_type": "markdown",
   "metadata": {},
   "source": [
    "# test"
   ]
  },
  {
   "cell_type": "code",
   "execution_count": 71,
   "metadata": {},
   "outputs": [
    {
     "data": {
      "text/html": [
       "<div>\n",
       "<style scoped>\n",
       "    .dataframe tbody tr th:only-of-type {\n",
       "        vertical-align: middle;\n",
       "    }\n",
       "\n",
       "    .dataframe tbody tr th {\n",
       "        vertical-align: top;\n",
       "    }\n",
       "\n",
       "    .dataframe thead th {\n",
       "        text-align: right;\n",
       "    }\n",
       "</style>\n",
       "<table border=\"1\" class=\"dataframe\">\n",
       "  <thead>\n",
       "    <tr style=\"text-align: right;\">\n",
       "      <th></th>\n",
       "      <th>target</th>\n",
       "    </tr>\n",
       "  </thead>\n",
       "  <tbody>\n",
       "    <tr>\n",
       "      <td>0</td>\n",
       "      <td>0.744317</td>\n",
       "    </tr>\n",
       "    <tr>\n",
       "      <td>1</td>\n",
       "      <td>0.894353</td>\n",
       "    </tr>\n",
       "    <tr>\n",
       "      <td>2</td>\n",
       "      <td>0.863037</td>\n",
       "    </tr>\n",
       "    <tr>\n",
       "      <td>3</td>\n",
       "      <td>0.793981</td>\n",
       "    </tr>\n",
       "    <tr>\n",
       "      <td>4</td>\n",
       "      <td>0.833278</td>\n",
       "    </tr>\n",
       "  </tbody>\n",
       "</table>\n",
       "</div>"
      ],
      "text/plain": [
       "     target\n",
       "0  0.744317\n",
       "1  0.894353\n",
       "2  0.863037\n",
       "3  0.793981\n",
       "4  0.833278"
      ]
     },
     "execution_count": 71,
     "metadata": {},
     "output_type": "execute_result"
    }
   ],
   "source": [
    "l = []\n",
    "for i in range(400):\n",
    "    y = 1.005**i+np.random.standard_normal()*0.3\n",
    "    l.append(y) \n",
    "ts = pd.DataFrame(l,columns=[\"target\"])\n",
    "ts.head()"
   ]
  },
  {
   "cell_type": "code",
   "execution_count": null,
   "metadata": {},
   "outputs": [],
   "source": [
    "# load data and define model\n",
    "\n",
    "\n",
    "# TimeSeries(self, pandas_df, one_hot_root_list=None, grouping_variable='category', scaler=None)\n",
    "ts = MockTs()\n",
    "dp_model = DeepAR(ts, epochs=50)\n",
    "dp_model.instantiate_and_fit()"
   ]
  },
  {
   "cell_type": "code",
   "execution_count": null,
   "metadata": {},
   "outputs": [],
   "source": [
    "def get_sample_prediction(sample, fn):\n",
    "    sample = np.array(sample).reshape(1, 20, 1)\n",
    "    output = fn([sample])\n",
    "    samples = []\n",
    "    for mu,sigma in zip(output[0].reshape(20), output[1].reshape(20)):\n",
    "        # normal generate a random number(float), which is Gaussian distrubution\n",
    "        samples.append(normal(loc=mu, scale=np.sqrt(sigma), size=1)[0])\n",
    "    return np.array(samples)"
   ]
  },
  {
   "cell_type": "code",
   "execution_count": null,
   "metadata": {},
   "outputs": [],
   "source": [
    "# next_batch(self, batch_size, n_steps,target_var='target', verbose=False, padding_value=0) \n",
    "# ---> return a tuple X (feature space), y\n",
    "# X = ( batch_size, n_steps, -1 )\n",
    "batch = ts.next_batch(1, 20)\n",
    "\n",
    "ress = []\n",
    "# tqdm 只是产生一个进度条\n",
    "for i in tqdm.tqdm(range(300)):\n",
    "    # predict_theta_from_input : 每次预测产生模型（高斯模型）的参数【均值，方差】数据, which is the optimal parameter value of Gaussion\n",
    "    # get_sample_prediction : 得到预测值，进去多少个就产生多少个\n",
    "    # get_sample_prediction 过程中并不会继续改变模型参数（即没有在训练），所以其实这个重复产生theta的过程是多余的\n",
    "    ress.append(get_sample_prediction(batch[0], dp_model.predict_theta_from_input))\n",
    "\n",
    "res_df = pd.DataFrame(ress).T\n",
    "tot_res = res_df\n",
    "\n",
    "plt.plot(batch[1].reshape(20), linewidth=6)\n",
    "tot_res['mu'] = tot_res.apply(lambda x: np.mean(x), axis=1)\n",
    "tot_res['upper'] = tot_res.apply(lambda x: np.mean(x) + np.std(x), axis=1)\n",
    "tot_res['lower'] = tot_res.apply(lambda x: np.mean(x) - np.std(x), axis=1)\n",
    "tot_res['two_upper'] = tot_res.apply(lambda x: np.mean(x) + 2*np.std(x), axis=1)\n",
    "tot_res['two_lower'] = tot_res.apply(lambda x: np.mean(x) - 2*np.std(x), axis=1)\n",
    "\n",
    "plt.plot(tot_res.mu, 'bo')\n",
    "plt.plot(tot_res.mu, linewidth=2)\n",
    "plt.fill_between(x = tot_res.index, y1=tot_res.lower, y2=tot_res.upper, alpha=0.5)\n",
    "plt.fill_between(x = tot_res.index, y1=tot_res.two_lower, y2=tot_res.two_upper, alpha=0.5)\n",
    "plt.title('Prediction uncertainty')"
   ]
  },
  {
   "cell_type": "code",
   "execution_count": null,
   "metadata": {},
   "outputs": [],
   "source": []
  },
  {
   "cell_type": "code",
   "execution_count": null,
   "metadata": {},
   "outputs": [],
   "source": []
  },
  {
   "cell_type": "code",
   "execution_count": null,
   "metadata": {},
   "outputs": [],
   "source": []
  },
  {
   "cell_type": "code",
   "execution_count": null,
   "metadata": {},
   "outputs": [],
   "source": []
  },
  {
   "cell_type": "code",
   "execution_count": null,
   "metadata": {},
   "outputs": [],
   "source": []
  },
  {
   "cell_type": "code",
   "execution_count": null,
   "metadata": {},
   "outputs": [],
   "source": []
  }
 ],
 "metadata": {
  "kernelspec": {
   "display_name": "Python 3",
   "language": "python",
   "name": "python3"
  },
  "language_info": {
   "codemirror_mode": {
    "name": "ipython",
    "version": 3
   },
   "file_extension": ".py",
   "mimetype": "text/x-python",
   "name": "python",
   "nbconvert_exporter": "python",
   "pygments_lexer": "ipython3",
   "version": "3.7.4"
  }
 },
 "nbformat": 4,
 "nbformat_minor": 2
}

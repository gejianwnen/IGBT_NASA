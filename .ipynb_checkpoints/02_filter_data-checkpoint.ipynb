{
 "cells": [
  {
   "cell_type": "code",
   "execution_count": 1,
   "metadata": {},
   "outputs": [],
   "source": [
    "import os\n",
    "from math import *\n",
    "\n",
    "import numpy as np\n",
    "import pandas as pd\n",
    "import filterpy \n",
    "\n",
    "import matplotlib\n",
    "import matplotlib.pyplot as plt\n",
    "%matplotlib inline"
   ]
  },
  {
   "cell_type": "code",
   "execution_count": 2,
   "metadata": {},
   "outputs": [
    {
     "ename": "NameError",
     "evalue": "name 'get_sensor_reading' is not defined",
     "output_type": "error",
     "traceback": [
      "\u001b[1;31m---------------------------------------------------------------------------\u001b[0m",
      "\u001b[1;31mNameError\u001b[0m                                 Traceback (most recent call last)",
      "\u001b[1;32m<ipython-input-2-984fb9eb8e29>\u001b[0m in \u001b[0;36m<module>\u001b[1;34m\u001b[0m\n\u001b[0;32m     15\u001b[0m \u001b[0mf\u001b[0m\u001b[1;33m.\u001b[0m\u001b[0mQ\u001b[0m \u001b[1;33m=\u001b[0m \u001b[0mQ_discrete_white_noise\u001b[0m\u001b[1;33m(\u001b[0m\u001b[0mdim\u001b[0m\u001b[1;33m=\u001b[0m\u001b[1;36m2\u001b[0m\u001b[1;33m,\u001b[0m \u001b[0mdt\u001b[0m\u001b[1;33m=\u001b[0m\u001b[1;36m0.1\u001b[0m\u001b[1;33m,\u001b[0m \u001b[0mvar\u001b[0m\u001b[1;33m=\u001b[0m\u001b[1;36m0.13\u001b[0m\u001b[1;33m)\u001b[0m\u001b[1;33m\u001b[0m\u001b[1;33m\u001b[0m\u001b[0m\n\u001b[0;32m     16\u001b[0m \u001b[1;31m# 进行预测\u001b[0m\u001b[1;33m\u001b[0m\u001b[1;33m\u001b[0m\u001b[1;33m\u001b[0m\u001b[0m\n\u001b[1;32m---> 17\u001b[1;33m \u001b[0mz\u001b[0m \u001b[1;33m=\u001b[0m \u001b[0mget_sensor_reading\u001b[0m\u001b[1;33m(\u001b[0m\u001b[1;33m)\u001b[0m\u001b[1;33m\u001b[0m\u001b[1;33m\u001b[0m\u001b[0m\n\u001b[0m\u001b[0;32m     18\u001b[0m \u001b[0mf\u001b[0m\u001b[1;33m.\u001b[0m\u001b[0mpredict\u001b[0m\u001b[1;33m(\u001b[0m\u001b[1;33m)\u001b[0m\u001b[1;33m\u001b[0m\u001b[1;33m\u001b[0m\u001b[0m\n\u001b[0;32m     19\u001b[0m \u001b[0mf\u001b[0m\u001b[1;33m.\u001b[0m\u001b[0mupdate\u001b[0m\u001b[1;33m(\u001b[0m\u001b[0mz\u001b[0m\u001b[1;33m)\u001b[0m\u001b[1;33m\u001b[0m\u001b[1;33m\u001b[0m\u001b[0m\n",
      "\u001b[1;31mNameError\u001b[0m: name 'get_sensor_reading' is not defined"
     ]
    }
   ],
   "source": [
    "from filterpy.kalman import KalmanFilter\n",
    "from filterpy.common import Q_discrete_white_noise\n",
    "\n",
    "f = KalmanFilter (dim_x=2, dim_z=1)\n",
    "f.x = np.array([[2.], # position\n",
    "                [0.]]) # velocity\n",
    "# 或者 f.x = np.array([2., 0.])\n",
    "f.F = np.array([[1.,1.], [0.,1.]])\n",
    "f.H = np.array([[1.,0.]])\n",
    "f.P *= 1000\n",
    "# 或者 f.P = np.array([[1000., 0.],[ 0., 1000.] ])\n",
    "f.R = 5\n",
    "# 或者 f.R = np.array([[5.]])\n",
    "# 加入过程噪声\n",
    "f.Q = Q_discrete_white_noise(dim=2, dt=0.1, var=0.13)\n",
    "# 进行预测\n",
    "z = get_sensor_reading()\n",
    "f.predict()\n",
    "f.update(z)\n",
    "do_something_with_estimate (f.x)"
   ]
  },
  {
   "cell_type": "code",
   "execution_count": 7,
   "metadata": {},
   "outputs": [],
   "source": [
    "from filterpy.kalman import KalmanFilter\n",
    "\n",
    "tracker = KalmanFilter(dim_x=2, dim_z=1)\n",
    "dt = 1.   # time step 1 second\n",
    "\n",
    "tracker.F = np.array([[1, dt ],\n",
    "                      [0,  1 ]])"
   ]
  },
  {
   "cell_type": "code",
   "execution_count": 9,
   "metadata": {},
   "outputs": [
    {
     "name": "stdout",
     "output_type": "stream",
     "text": [
      "[[0.00025 0.0005 ]\n",
      " [0.0005  0.001  ]]\n"
     ]
    }
   ],
   "source": [
    "from scipy.linalg import block_diag\n",
    "from filterpy.common import Q_discrete_white_noise\n",
    "\n",
    "q = Q_discrete_white_noise(dim=2, dt=dt, var=0.001)\n",
    "tracker.Q = block_diag(q)\n",
    "print(tracker.Q)"
   ]
  },
  {
   "cell_type": "code",
   "execution_count": 12,
   "metadata": {},
   "outputs": [],
   "source": [
    "tracker.B = 0"
   ]
  },
  {
   "cell_type": "code",
   "execution_count": 13,
   "metadata": {},
   "outputs": [],
   "source": [
    "# Design the Measurement Function\n",
    "tracker.H = np.array([[1, 0]])"
   ]
  },
  {
   "cell_type": "code",
   "execution_count": 14,
   "metadata": {},
   "outputs": [
    {
     "data": {
      "text/plain": [
       "array([[5.]])"
      ]
     },
     "execution_count": 14,
     "metadata": {},
     "output_type": "execute_result"
    }
   ],
   "source": [
    "# Design the Measurement Noise Matrix\n",
    "tracker.R = np.array([[5.]])\n",
    "tracker.R"
   ]
  },
  {
   "cell_type": "code",
   "execution_count": null,
   "metadata": {},
   "outputs": [],
   "source": [
    "# Initial Conditions\n",
    "tracker.x = np.array([[0, 0]]).T\n",
    "tracker.P = np.eye(2) * 500."
   ]
  },
  {
   "cell_type": "code",
   "execution_count": 15,
   "metadata": {},
   "outputs": [],
   "source": [
    "from numpy.random import randn\n",
    "\n",
    "class PosSensor(object):\n",
    "    def __init__(self, pos= 0, vel= 0, noise_std=1.):\n",
    "        self.vel = vel\n",
    "        self.noise_std = noise_std\n",
    "        self.pos = pos\n",
    "        \n",
    "    def read(self):\n",
    "        self.pos += self.vel\n",
    "        \n",
    "        return self.pos + randn() * self.noise_std"
   ]
  },
  {
   "cell_type": "code",
   "execution_count": 17,
   "metadata": {},
   "outputs": [
    {
     "data": {
      "text/plain": [
       "[<matplotlib.lines.Line2D at 0x18da346e808>]"
      ]
     },
     "execution_count": 17,
     "metadata": {},
     "output_type": "execute_result"
    },
    {
     "data": {
      "image/png": "[encoded data removed]",
      "text/plain": [
       "<Figure size 432x288 with 1 Axes>"
      ]
     },
     "metadata": {
      "needs_background": "light"
     },
     "output_type": "display_data"
    }
   ],
   "source": [
    "import matplotlib.pyplot as plt\n",
    "import numpy as np\n",
    "\n",
    "pos, vel = 4, 2\n",
    "sensor = PosSensor(pos, vel, noise_std=1)\n",
    "ps = np.array([sensor.read() for _ in range(50)])\n",
    "plt.plot(ps)"
   ]
  },
  {
   "cell_type": "code",
   "execution_count": 18,
   "metadata": {},
   "outputs": [
    {
     "ename": "ValueError",
     "evalue": "operands could not be broadcast together with shapes (4,4) (2,2) ",
     "output_type": "error",
     "traceback": [
      "\u001b[1;31m---------------------------------------------------------------------------\u001b[0m",
      "\u001b[1;31mValueError\u001b[0m                                Traceback (most recent call last)",
      "\u001b[1;32m<ipython-input-18-944c9ae8a62e>\u001b[0m in \u001b[0;36m<module>\u001b[1;34m\u001b[0m\n\u001b[0;32m      7\u001b[0m \u001b[1;31m# run filter\u001b[0m\u001b[1;33m\u001b[0m\u001b[1;33m\u001b[0m\u001b[1;33m\u001b[0m\u001b[0m\n\u001b[0;32m      8\u001b[0m \u001b[0mrobot_tracker\u001b[0m \u001b[1;33m=\u001b[0m \u001b[0mtracker\u001b[0m\u001b[1;33m\u001b[0m\u001b[1;33m\u001b[0m\u001b[0m\n\u001b[1;32m----> 9\u001b[1;33m \u001b[0mmu\u001b[0m\u001b[1;33m,\u001b[0m \u001b[0mcov\u001b[0m\u001b[1;33m,\u001b[0m \u001b[0m_\u001b[0m\u001b[1;33m,\u001b[0m \u001b[0m_\u001b[0m \u001b[1;33m=\u001b[0m \u001b[0mrobot_tracker\u001b[0m\u001b[1;33m.\u001b[0m\u001b[0mbatch_filter\u001b[0m\u001b[1;33m(\u001b[0m\u001b[0mzs\u001b[0m\u001b[1;33m)\u001b[0m\u001b[1;33m\u001b[0m\u001b[1;33m\u001b[0m\u001b[0m\n\u001b[0m\u001b[0;32m     10\u001b[0m \u001b[1;33m\u001b[0m\u001b[0m\n\u001b[0;32m     11\u001b[0m \u001b[1;31m# for x, P in zip(mu, cov):\u001b[0m\u001b[1;33m\u001b[0m\u001b[1;33m\u001b[0m\u001b[1;33m\u001b[0m\u001b[0m\n",
      "\u001b[1;32mD:\\Users\\admin\\Anaconda3\\lib\\site-packages\\filterpy\\kalman\\kalman_filter.py\u001b[0m in \u001b[0;36mbatch_filter\u001b[1;34m(self, zs, Fs, Qs, Hs, Rs, Bs, us, update_first, saver)\u001b[0m\n\u001b[0;32m    905\u001b[0m             \u001b[1;32mfor\u001b[0m \u001b[0mi\u001b[0m\u001b[1;33m,\u001b[0m \u001b[1;33m(\u001b[0m\u001b[0mz\u001b[0m\u001b[1;33m,\u001b[0m \u001b[0mF\u001b[0m\u001b[1;33m,\u001b[0m \u001b[0mQ\u001b[0m\u001b[1;33m,\u001b[0m \u001b[0mH\u001b[0m\u001b[1;33m,\u001b[0m \u001b[0mR\u001b[0m\u001b[1;33m,\u001b[0m \u001b[0mB\u001b[0m\u001b[1;33m,\u001b[0m \u001b[0mu\u001b[0m\u001b[1;33m)\u001b[0m \u001b[1;32min\u001b[0m \u001b[0menumerate\u001b[0m\u001b[1;33m(\u001b[0m\u001b[0mzip\u001b[0m\u001b[1;33m(\u001b[0m\u001b[0mzs\u001b[0m\u001b[1;33m,\u001b[0m \u001b[0mFs\u001b[0m\u001b[1;33m,\u001b[0m \u001b[0mQs\u001b[0m\u001b[1;33m,\u001b[0m \u001b[0mHs\u001b[0m\u001b[1;33m,\u001b[0m \u001b[0mRs\u001b[0m\u001b[1;33m,\u001b[0m \u001b[0mBs\u001b[0m\u001b[1;33m,\u001b[0m \u001b[0mus\u001b[0m\u001b[1;33m)\u001b[0m\u001b[1;33m)\u001b[0m\u001b[1;33m:\u001b[0m\u001b[1;33m\u001b[0m\u001b[1;33m\u001b[0m\u001b[0m\n\u001b[0;32m    906\u001b[0m \u001b[1;33m\u001b[0m\u001b[0m\n\u001b[1;32m--> 907\u001b[1;33m                 \u001b[0mself\u001b[0m\u001b[1;33m.\u001b[0m\u001b[0mpredict\u001b[0m\u001b[1;33m(\u001b[0m\u001b[0mu\u001b[0m\u001b[1;33m=\u001b[0m\u001b[0mu\u001b[0m\u001b[1;33m,\u001b[0m \u001b[0mB\u001b[0m\u001b[1;33m=\u001b[0m\u001b[0mB\u001b[0m\u001b[1;33m,\u001b[0m \u001b[0mF\u001b[0m\u001b[1;33m=\u001b[0m\u001b[0mF\u001b[0m\u001b[1;33m,\u001b[0m \u001b[0mQ\u001b[0m\u001b[1;33m=\u001b[0m\u001b[0mQ\u001b[0m\u001b[1;33m)\u001b[0m\u001b[1;33m\u001b[0m\u001b[1;33m\u001b[0m\u001b[0m\n\u001b[0m\u001b[0;32m    908\u001b[0m                 \u001b[0mmeans_p\u001b[0m\u001b[1;33m[\u001b[0m\u001b[0mi\u001b[0m\u001b[1;33m,\u001b[0m \u001b[1;33m:\u001b[0m\u001b[1;33m]\u001b[0m \u001b[1;33m=\u001b[0m \u001b[0mself\u001b[0m\u001b[1;33m.\u001b[0m\u001b[0mx\u001b[0m\u001b[1;33m\u001b[0m\u001b[1;33m\u001b[0m\u001b[0m\n\u001b[0;32m    909\u001b[0m                 \u001b[0mcovariances_p\u001b[0m\u001b[1;33m[\u001b[0m\u001b[0mi\u001b[0m\u001b[1;33m,\u001b[0m \u001b[1;33m:\u001b[0m\u001b[1;33m,\u001b[0m \u001b[1;33m:\u001b[0m\u001b[1;33m]\u001b[0m \u001b[1;33m=\u001b[0m \u001b[0mself\u001b[0m\u001b[1;33m.\u001b[0m\u001b[0mP\u001b[0m\u001b[1;33m\u001b[0m\u001b[1;33m\u001b[0m\u001b[0m\n",
      "\u001b[1;32mD:\\Users\\admin\\Anaconda3\\lib\\site-packages\\filterpy\\kalman\\kalman_filter.py\u001b[0m in \u001b[0;36mpredict\u001b[1;34m(self, u, B, F, Q)\u001b[0m\n\u001b[0;32m    482\u001b[0m \u001b[1;33m\u001b[0m\u001b[0m\n\u001b[0;32m    483\u001b[0m         \u001b[1;31m# P = FPF' + Q\u001b[0m\u001b[1;33m\u001b[0m\u001b[1;33m\u001b[0m\u001b[1;33m\u001b[0m\u001b[0m\n\u001b[1;32m--> 484\u001b[1;33m         \u001b[0mself\u001b[0m\u001b[1;33m.\u001b[0m\u001b[0mP\u001b[0m \u001b[1;33m=\u001b[0m \u001b[0mself\u001b[0m\u001b[1;33m.\u001b[0m\u001b[0m_alpha_sq\u001b[0m \u001b[1;33m*\u001b[0m \u001b[0mdot\u001b[0m\u001b[1;33m(\u001b[0m\u001b[0mdot\u001b[0m\u001b[1;33m(\u001b[0m\u001b[0mF\u001b[0m\u001b[1;33m,\u001b[0m \u001b[0mself\u001b[0m\u001b[1;33m.\u001b[0m\u001b[0mP\u001b[0m\u001b[1;33m)\u001b[0m\u001b[1;33m,\u001b[0m \u001b[0mF\u001b[0m\u001b[1;33m.\u001b[0m\u001b[0mT\u001b[0m\u001b[1;33m)\u001b[0m \u001b[1;33m+\u001b[0m \u001b[0mQ\u001b[0m\u001b[1;33m\u001b[0m\u001b[1;33m\u001b[0m\u001b[0m\n\u001b[0m\u001b[0;32m    485\u001b[0m \u001b[1;33m\u001b[0m\u001b[0m\n\u001b[0;32m    486\u001b[0m         \u001b[1;31m# save prior\u001b[0m\u001b[1;33m\u001b[0m\u001b[1;33m\u001b[0m\u001b[1;33m\u001b[0m\u001b[0m\n",
      "\u001b[1;31mValueError\u001b[0m: operands could not be broadcast together with shapes (4,4) (2,2) "
     ]
    }
   ],
   "source": [
    "# simulate robot movement\n",
    "N = 30\n",
    "sensor = PosSensor(pos, vel, noise_std=1)\n",
    "\n",
    "zs = np.array([sensor.read() for _ in range(N)])\n",
    "\n",
    "# run filter\n",
    "robot_tracker = tracker\n",
    "mu, cov, _, _ = robot_tracker.batch_filter(zs)\n",
    "\n",
    "# for x, P in zip(mu, cov):\n",
    "#     # covariance of x and y\n",
    "#     cov = np.array([[P[0, 0], P[2, 0]], \n",
    "#                     [P[0, 2], P[2, 2]]])\n",
    "#     mean = (x[0, 0], x[2, 0])\n",
    "#     plot_covariance_ellipse(mean, cov=cov, fc='g', std=3, alpha=0.5)\n",
    "    \n",
    "# #plot results\n",
    "# zs *= .3048 # convert to meters\n",
    "# plot_filter(mu[:, 0], mu[:, 2])\n",
    "# plot_measurements(zs[:, 0], zs[:, 1])\n",
    "# plt.legend(loc=2)\n",
    "# plt.xlim(0, 20);"
   ]
  },
  {
   "cell_type": "markdown",
   "metadata": {},
   "source": [
    "# tutor"
   ]
  },
  {
   "cell_type": "code",
   "execution_count": 19,
   "metadata": {},
   "outputs": [],
   "source": [
    "from numpy.random import randn\n",
    "\n",
    "class PosSensor(object):\n",
    "    def __init__(self, pos=(0, 0), vel=(0, 0), noise_std=1.):\n",
    "        self.vel = vel\n",
    "        self.noise_std = noise_std\n",
    "        self.pos = [pos[0], pos[1]]\n",
    "        \n",
    "    def read(self):\n",
    "        self.pos[0] += self.vel[0]\n",
    "        self.pos[1] += self.vel[1]\n",
    "        \n",
    "        return [self.pos[0] + randn() * self.noise_std,\n",
    "                self.pos[1] + randn() * self.noise_std]"
   ]
  },
  {
   "cell_type": "code",
   "execution_count": 26,
   "metadata": {},
   "outputs": [
    {
     "data": {
      "text/plain": [
       "[<matplotlib.lines.Line2D at 0x18da464bc48>]"
      ]
     },
     "execution_count": 26,
     "metadata": {},
     "output_type": "execute_result"
    },
    {
     "data": {
      "image/png": "[encoded data removed]",
      "text/plain": [
       "<Figure size 576x432 with 1 Axes>"
      ]
     },
     "metadata": {
      "needs_background": "light"
     },
     "output_type": "display_data"
    }
   ],
   "source": [
    "import matplotlib.pyplot as plt\n",
    "import numpy as np\n",
    "\n",
    "pos, vel = (4, 3), (2, 1)\n",
    "sensor = PosSensor(pos, vel, noise_std=1)\n",
    "ps = np.array([sensor.read() for _ in range(50)])\n",
    "plt.figure(figsize = (8,6))\n",
    "plt.plot(ps[:, 0], ps[:, 1],\"o\")"
   ]
  },
  {
   "cell_type": "code",
   "execution_count": 27,
   "metadata": {},
   "outputs": [],
   "source": [
    "from filterpy.kalman import KalmanFilter\n",
    "\n",
    "tracker = KalmanFilter(dim_x=4, dim_z=2)\n",
    "dt = 1.   # time step 1 second\n",
    "\n",
    "tracker.F = np.array([[1, dt, 0,  0],\n",
    "                      [0,  1, 0,  0],\n",
    "                      [0,  0, 1, dt],\n",
    "                      [0,  0, 0,  1]])"
   ]
  },
  {
   "cell_type": "code",
   "execution_count": 28,
   "metadata": {},
   "outputs": [
    {
     "name": "stdout",
     "output_type": "stream",
     "text": [
      "[[0.00025 0.0005  0.      0.     ]\n",
      " [0.0005  0.001   0.      0.     ]\n",
      " [0.      0.      0.00025 0.0005 ]\n",
      " [0.      0.      0.0005  0.001  ]]\n"
     ]
    }
   ],
   "source": [
    "from scipy.linalg import block_diag\n",
    "from filterpy.common import Q_discrete_white_noise\n",
    "\n",
    "q = Q_discrete_white_noise(dim=2, dt=dt, var=0.001)\n",
    "tracker.Q = block_diag(q, q)\n",
    "print(tracker.Q)"
   ]
  },
  {
   "cell_type": "code",
   "execution_count": 29,
   "metadata": {},
   "outputs": [],
   "source": [
    "tracker.H = np.array([[1, 0, 0, 0],\n",
    "                      [0, 0, 1, 0]])"
   ]
  },
  {
   "cell_type": "code",
   "execution_count": 30,
   "metadata": {},
   "outputs": [
    {
     "data": {
      "text/plain": [
       "array([[5., 0.],\n",
       "       [0., 5.]])"
      ]
     },
     "execution_count": 30,
     "metadata": {},
     "output_type": "execute_result"
    }
   ],
   "source": [
    "tracker.R = np.array([[5., 0],\n",
    "                      [0, 5]])\n",
    "tracker.R"
   ]
  },
  {
   "cell_type": "code",
   "execution_count": 31,
   "metadata": {},
   "outputs": [],
   "source": [
    "tracker.x = np.array([[0, 0, 0, 0]]).T\n",
    "tracker.P = np.eye(4) * 500."
   ]
  },
  {
   "cell_type": "code",
   "execution_count": 44,
   "metadata": {},
   "outputs": [
    {
     "data": {
      "text/plain": [
       "[<matplotlib.lines.Line2D at 0x18da46f7948>]"
      ]
     },
     "execution_count": 44,
     "metadata": {},
     "output_type": "execute_result"
    },
    {
     "data": {
      "image/png": "[encoded data removed]",
      "text/plain": [
       "<Figure size 432x288 with 1 Axes>"
      ]
     },
     "metadata": {
      "needs_background": "light"
     },
     "output_type": "display_data"
    }
   ],
   "source": [
    "# simulate robot movement\n",
    "N = 50\n",
    "sensor = PosSensor((4, 3), (2, 1), noise_std=1)\n",
    "\n",
    "zs = np.array([sensor.read() for _ in range(N)])\n",
    "\n",
    "# run filter\n",
    "robot_tracker = tracker\n",
    "mu, cov, _, _ = robot_tracker.batch_filter(zs)\n",
    "\n",
    "for x, P in zip(mu, cov):\n",
    "    # covariance of x and y\n",
    "    cov = np.array([[P[0, 0], P[2, 0]], \n",
    "                    [P[0, 2], P[2, 2]]])\n",
    "    mean = (x[0, 0], x[2, 0])\n",
    "#     plot_covariance_ellipse(mean, cov=cov, fc='g', std=3, alpha=0.5)\n",
    "    \n",
    "#plot results\n",
    "plt.plot(mu[:, 0], mu[:, 2])\n",
    "plt.plot(zs[:, 0], zs[:, 1])\n",
    "# plt.xlim(0, 20);"
   ]
  },
  {
   "cell_type": "code",
   "execution_count": 40,
   "metadata": {},
   "outputs": [
    {
     "data": {
      "text/plain": [
       "(30,)"
      ]
     },
     "execution_count": 40,
     "metadata": {},
     "output_type": "execute_result"
    }
   ],
   "source": [
    "zs[:, 1].shape"
   ]
  },
  {
   "cell_type": "code",
   "execution_count": 46,
   "metadata": {},
   "outputs": [
    {
     "data": {
      "text/plain": [
       "[<matplotlib.lines.Line2D at 0x18da48d18c8>]"
      ]
     },
     "execution_count": 46,
     "metadata": {},
     "output_type": "execute_result"
    },
    {
     "data": {
      "image/png": "[encoded data removed]",
      "text/plain": [
       "<Figure size 432x288 with 1 Axes>"
      ]
     },
     "metadata": {
      "needs_background": "light"
     },
     "output_type": "display_data"
    }
   ],
   "source": [
    "from filterpy.stats import plot_covariance_ellipse\n",
    "# from kf_book.book_plots import plot_filter\n",
    "\n",
    "R_std = 0.35\n",
    "Q_std = 0.04\n",
    "\n",
    "def tracker1():\n",
    "    tracker = KalmanFilter(dim_x=4, dim_z=2)\n",
    "    dt = 1.0   # time step\n",
    "\n",
    "    tracker.F = np.array([[1, dt, 0,  0],\n",
    "                          [0,  1, 0,  0],\n",
    "                          [0,  0, 1, dt],\n",
    "                          [0,  0, 0,  1]])\n",
    "    tracker.u = 0.\n",
    "    tracker.H = np.array([[1/0.3048, 0, 0, 0],\n",
    "                          [0, 0, 1/0.3048, 0]])\n",
    "\n",
    "    tracker.R = np.eye(2) * R_std**2\n",
    "    q = Q_discrete_white_noise(dim=2, dt=dt, var=Q_std**2)\n",
    "    tracker.Q = block_diag(q, q)\n",
    "    tracker.x = np.array([[0, 0, 0, 0]]).T\n",
    "    tracker.P = np.eye(4) * 500.\n",
    "    return tracker\n",
    "\n",
    "# simulate robot movement\n",
    "N = 30\n",
    "sensor = PosSensor((0, 0), (2, .2), noise_std=R_std)\n",
    "\n",
    "zs = np.array([sensor.read() for _ in range(N)])\n",
    "\n",
    "# run filter\n",
    "robot_tracker = tracker1()\n",
    "mu, cov, _, _ = robot_tracker.batch_filter(zs)\n",
    "\n",
    "for x, P in zip(mu, cov):\n",
    "    # covariance of x and y\n",
    "    cov = np.array([[P[0, 0], P[2, 0]], \n",
    "                    [P[0, 2], P[2, 2]]])\n",
    "    mean = (x[0, 0], x[2, 0])\n",
    "#     plot_covariance_ellipse(mean, cov=cov, fc='g', std=3, alpha=0.5)\n",
    "    \n",
    "#plot results\n",
    "zs *= .3048 # convert to meters\n",
    "plt.plot(mu[:, 0], mu[:, 2])\n",
    "plt.plot(zs[:, 0], zs[:, 1])\n"
   ]
  },
  {
   "cell_type": "code",
   "execution_count": 53,
   "metadata": {},
   "outputs": [
    {
     "data": {
      "text/plain": [
       "[<matplotlib.lines.Line2D at 0x18da4b115c8>]"
      ]
     },
     "execution_count": 53,
     "metadata": {},
     "output_type": "execute_result"
    },
    {
     "data": {
      "image/png": "[encoded data removed]",
      "text/plain": [
       "<Figure size 432x288 with 1 Axes>"
      ]
     },
     "metadata": {
      "needs_background": "light"
     },
     "output_type": "display_data"
    }
   ],
   "source": [
    "# from kf_book.book_plots import plot_track\n",
    "\n",
    "class ConstantVelocityObject(object):\n",
    "    def __init__(self, x0=0, vel=1., noise_scale=0.06):\n",
    "        self.x = x0\n",
    "        self.vel = vel\n",
    "        self.noise_scale = noise_scale\n",
    "\n",
    "    def update(self):\n",
    "        self.vel += randn() * self.noise_scale\n",
    "        self.x += self.vel\n",
    "        return (self.x, self.vel)\n",
    "\n",
    "def sense(x, noise_scale=1.):\n",
    "    return x[0] + randn()*noise_scale\n",
    "\n",
    "np.random.seed(124)\n",
    "obj = ConstantVelocityObject()\n",
    "\n",
    "xs, zs = [], []\n",
    "for i in range(50):\n",
    "    x = obj.update()\n",
    "    z = sense(x)\n",
    "    xs.append(x)\n",
    "    zs.append(z)\n",
    "\n",
    "xs = np.asarray(xs)\n",
    "\n",
    "plt.plot(xs[:, 0])\n",
    "plt.plot(zs)"
   ]
  },
  {
   "cell_type": "code",
   "execution_count": 51,
   "metadata": {},
   "outputs": [
    {
     "data": {
      "text/plain": [
       "[<matplotlib.lines.Line2D at 0x18da4ab5508>]"
      ]
     },
     "execution_count": 51,
     "metadata": {},
     "output_type": "execute_result"
    },
    {
     "data": {
      "image/png": "[encoded data removed]",
      "text/plain": [
       "<Figure size 432x288 with 1 Axes>"
      ]
     },
     "metadata": {
      "needs_background": "light"
     },
     "output_type": "display_data"
    }
   ],
   "source": [
    "plt.plot(mu[:, 0], mu[:, 2])\n"
   ]
  },
  {
   "cell_type": "code",
   "execution_count": 54,
   "metadata": {},
   "outputs": [],
   "source": [
    "def ZeroOrderKF(R, Q, P=20):\n",
    "    \"\"\" Create zero order Kalman filter.\n",
    "    Specify R and Q as floats.\"\"\"\n",
    "    \n",
    "    kf = KalmanFilter(dim_x=1, dim_z=1)\n",
    "    kf.x = np.array([0.])\n",
    "    kf.R *= R\n",
    "    kf.Q *= Q\n",
    "    kf.P *= P\n",
    "    kf.F = np.eye(1)\n",
    "    kf.H = np.eye(1)\n",
    "    return kf"
   ]
  },
  {
   "cell_type": "code",
   "execution_count": 55,
   "metadata": {},
   "outputs": [],
   "source": [
    "def FirstOrderKF(R, Q, dt):\n",
    "    \"\"\" Create first order Kalman filter. \n",
    "    Specify R and Q as floats.\"\"\"\n",
    "    \n",
    "    kf = KalmanFilter(dim_x=2, dim_z=1)\n",
    "    kf.x = np.zeros(2)\n",
    "    kf.P *= np.array([[100, 0], [0, 1]])\n",
    "    kf.R *= R\n",
    "    kf.Q = Q_discrete_white_noise(2, dt, Q)\n",
    "    kf.F = np.array([[1., dt],\n",
    "                     [0., 1]])\n",
    "    kf.H = np.array([[1., 0]])\n",
    "    return kf"
   ]
  },
  {
   "cell_type": "code",
   "execution_count": 56,
   "metadata": {},
   "outputs": [],
   "source": [
    "def SecondOrderKF(R_std, Q, dt, P=100):\n",
    "    \"\"\" Create second order Kalman filter. \n",
    "    Specify R and Q as floats.\"\"\"\n",
    "    \n",
    "    kf = KalmanFilter(dim_x=3, dim_z=1)\n",
    "    kf.x = np.zeros(3)\n",
    "    kf.P[0, 0] = P\n",
    "    kf.P[1, 1] = 1\n",
    "    kf.P[2, 2] = 1\n",
    "    kf.R *= R_std**2\n",
    "    kf.Q = Q_discrete_white_noise(3, dt, Q)\n",
    "    kf.F = np.array([[1., dt, .5*dt*dt],\n",
    "                     [0., 1.,       dt],\n",
    "                     [0., 0.,       1.]])\n",
    "    kf.H = np.array([[1., 0., 0.]])\n",
    "    return kf"
   ]
  },
  {
   "cell_type": "code",
   "execution_count": 57,
   "metadata": {},
   "outputs": [],
   "source": [
    "def simulate_system(Q, count):\n",
    "    obj = ConstantVelocityObject(x0=.0, vel=0.5, noise_scale=Q)\n",
    "    xs, zs = [], []\n",
    "    for i in range(count):\n",
    "        x = obj.update()\n",
    "        z = sense(x)\n",
    "        xs.append(x)\n",
    "        zs.append(z)\n",
    "    return np.array(xs), np.array(zs)"
   ]
  },
  {
   "cell_type": "code",
   "execution_count": 58,
   "metadata": {},
   "outputs": [],
   "source": [
    "from filterpy.common import Saver\n",
    "\n",
    "def filter_data(kf, zs):\n",
    "    s = Saver(kf)\n",
    "    kf.batch_filter(zs, saver=s)\n",
    "    s.to_array()\n",
    "    return s\n"
   ]
  },
  {
   "cell_type": "code",
   "execution_count": 59,
   "metadata": {},
   "outputs": [],
   "source": [
    "R, Q = 1, 0.03\n",
    "xs, zs = simulate_system(Q=Q, count=50)\n",
    "\n",
    "kf = FirstOrderKF(R, Q, dt=1)\n",
    "data1 = filter_data(kf, zs)\n"
   ]
  },
  {
   "cell_type": "code",
   "execution_count": 82,
   "metadata": {},
   "outputs": [
    {
     "data": {
      "text/plain": [
       "[<matplotlib.lines.Line2D at 0x18da5f36f48>]"
      ]
     },
     "execution_count": 82,
     "metadata": {},
     "output_type": "execute_result"
    },
    {
     "data": {
      "image/png": "[encoded data removed]",
      "text/plain": [
       "<Figure size 432x288 with 1 Axes>"
      ]
     },
     "metadata": {
      "needs_background": "light"
     },
     "output_type": "display_data"
    }
   ],
   "source": []
  },
  {
   "cell_type": "code",
   "execution_count": 79,
   "metadata": {},
   "outputs": [
    {
     "data": {
      "text/plain": [
       "array([ 1.57741932, -0.11790723,  1.81497263,  2.01878603,  2.31343345,\n",
       "        2.06070237,  2.94546564,  2.97786166,  3.22115405,  4.14667168,\n",
       "        3.15075967,  6.61138213,  4.55273323,  6.54327611,  8.28771609,\n",
       "        7.16702442,  7.43705707,  8.87932939,  8.25754062,  7.97503218,\n",
       "        9.33302604,  8.98658041,  7.78931577, 10.32382639,  9.86963555,\n",
       "       11.20569037, 12.30863903, 11.36667857, 12.94375302, 11.01160755,\n",
       "       13.28944367, 11.99124313, 12.54644089, 14.62017104, 14.40929638,\n",
       "       16.25722118, 15.19815766, 14.8993195 , 16.25342445, 16.8119303 ,\n",
       "       17.65243564, 17.53465567, 19.66603525, 18.32530468, 18.23308188,\n",
       "       21.28947477, 19.67815051, 19.67550985, 18.94690109, 20.10336202])"
      ]
     },
     "execution_count": 79,
     "metadata": {},
     "output_type": "execute_result"
    }
   ],
   "source": [
    "\n",
    "(data1.z[:,0])\n"
   ]
  },
  {
   "cell_type": "code",
   "execution_count": 75,
   "metadata": {},
   "outputs": [
    {
     "ename": "IndexError",
     "evalue": "index 1 is out of bounds for axis 1 with size 1",
     "output_type": "error",
     "traceback": [
      "\u001b[1;31m---------------------------------------------------------------------------\u001b[0m",
      "\u001b[1;31mIndexError\u001b[0m                                Traceback (most recent call last)",
      "\u001b[1;32m<ipython-input-75-9a9c3847689d>\u001b[0m in \u001b[0;36m<module>\u001b[1;34m\u001b[0m\n\u001b[0;32m      2\u001b[0m \u001b[1;33m\u001b[0m\u001b[0m\n\u001b[0;32m      3\u001b[0m \u001b[1;31m# plt.plot(data1.x[:,0])\u001b[0m\u001b[1;33m\u001b[0m\u001b[1;33m\u001b[0m\u001b[1;33m\u001b[0m\u001b[0m\n\u001b[1;32m----> 4\u001b[1;33m \u001b[0mplt\u001b[0m\u001b[1;33m.\u001b[0m\u001b[0mplot\u001b[0m\u001b[1;33m(\u001b[0m\u001b[0mdata1\u001b[0m\u001b[1;33m.\u001b[0m\u001b[0mz\u001b[0m\u001b[1;33m[\u001b[0m\u001b[1;33m:\u001b[0m\u001b[1;33m,\u001b[0m\u001b[1;36m1\u001b[0m\u001b[1;33m]\u001b[0m\u001b[1;33m)\u001b[0m\u001b[1;33m\u001b[0m\u001b[1;33m\u001b[0m\u001b[0m\n\u001b[0m",
      "\u001b[1;31mIndexError\u001b[0m: index 1 is out of bounds for axis 1 with size 1"
     ]
    },
    {
     "data": {
      "image/png": "[encoded data removed]",
      "text/plain": [
       "<Figure size 432x288 with 1 Axes>"
      ]
     },
     "metadata": {
      "needs_background": "light"
     },
     "output_type": "display_data"
    }
   ],
   "source": [
    "plt.plot(zs)\n",
    "\n",
    "# plt.plot(data1.x[:,0])\n",
    "plt.plot(data1.z[:,1])\n"
   ]
  },
  {
   "cell_type": "markdown",
   "metadata": {},
   "source": [
    "# try my own data"
   ]
  },
  {
   "cell_type": "code",
   "execution_count": null,
   "metadata": {},
   "outputs": [],
   "source": [
    "from filterpy.common import Saver\n",
    "\n",
    "# get zs (measured/sensor data)\n",
    "zs = np.array([ 1.57741932, -0.11790723,  1.81497263,  2.01878603,  2.31343345,\n",
    "                2.06070237,  2.94546564,  2.97786166,  3.22115405,  4.14667168,\n",
    "                3.15075967,  6.61138213,  4.55273323,  6.54327611,  8.28771609,\n",
    "                7.16702442,  7.43705707,  8.87932939,  8.25754062,  7.97503218,\n",
    "                9.33302604,  8.98658041,  7.78931577, 10.32382639,  9.86963555,\n",
    "               11.20569037, 12.30863903, 11.36667857, 12.94375302, 11.01160755,\n",
    "               13.28944367, 11.99124313, 12.54644089, 14.62017104, 14.40929638,\n",
    "               16.25722118, 15.19815766, 14.8993195 , 16.25342445, 16.8119303 ,\n",
    "               17.65243564, 17.53465567, 19.66603525, 18.32530468, 18.23308188,\n",
    "               21.28947477, 19.67815051, 19.67550985, 18.94690109, 20.10336202])\n",
    "\n",
    "R, Q = 1, 0.03\n",
    "Kalman_filter = FirstOrderKF(R, Q, dt=1)\n",
    "s = Saver(Kalman_filter)\n",
    "Kalman_filter.batch_filter(zs,saver = s)\n",
    "s.to_array()\n",
    "zs_filtered = s.x[:,0]\n",
    "err = s.x[:,1]\n",
    "plt.plot(zs_filtered)"
   ]
  },
  {
   "cell_type": "code",
   "execution_count": null,
   "metadata": {},
   "outputs": [],
   "source": []
  },
  {
   "cell_type": "code",
   "execution_count": null,
   "metadata": {},
   "outputs": [],
   "source": []
  },
  {
   "cell_type": "code",
   "execution_count": null,
   "metadata": {},
   "outputs": [],
   "source": []
  },
  {
   "cell_type": "code",
   "execution_count": null,
   "metadata": {},
   "outputs": [],
   "source": []
  },
  {
   "cell_type": "code",
   "execution_count": null,
   "metadata": {},
   "outputs": [],
   "source": []
  },
  {
   "cell_type": "code",
   "execution_count": null,
   "metadata": {},
   "outputs": [],
   "source": []
  },
  {
   "cell_type": "code",
   "execution_count": null,
   "metadata": {},
   "outputs": [],
   "source": []
  },
  {
   "cell_type": "code",
   "execution_count": null,
   "metadata": {},
   "outputs": [],
   "source": []
  },
  {
   "cell_type": "code",
   "execution_count": null,
   "metadata": {},
   "outputs": [],
   "source": []
  }
 ],
 "metadata": {
  "kernelspec": {
   "display_name": "Python 3",
   "language": "python",
   "name": "python3"
  },
  "language_info": {
   "codemirror_mode": {
    "name": "ipython",
    "version": 3
   },
   "file_extension": ".py",
   "mimetype": "text/x-python",
   "name": "python",
   "nbconvert_exporter": "python",
   "pygments_lexer": "ipython3",
   "version": "3.7.4"
  }
 },
 "nbformat": 4,
 "nbformat_minor": 2
}

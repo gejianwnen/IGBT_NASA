{
 "cells": [
  {
   "cell_type": "code",
   "execution_count": 2,
   "metadata": {},
   "outputs": [
    {
     "name": "stderr",
     "output_type": "stream",
     "text": [
      "Using TensorFlow backend.\n"
     ]
    }
   ],
   "source": [
    "# from mylab import *\n",
    "from deepar.dataset.time_series import MockTs\n",
    "from deepar.model.lstm import DeepAR\n",
    "\n",
    "\n",
    "%matplotlib inline\n",
    "from numpy.random import normal\n",
    "import tqdm\n",
    "import pandas as pd\n",
    "from matplotlib import pyplot as plt\n",
    "import numpy as np\n",
    "import warnings\n",
    "warnings.filterwarnings('ignore')"
   ]
  },
  {
   "cell_type": "markdown",
   "metadata": {},
   "source": [
    "# original test code"
   ]
  },
  {
   "cell_type": "code",
   "execution_count": 20,
   "metadata": {},
   "outputs": [
    {
     "data": {
      "text/plain": [
       "array([0. , 0.1, 0.2, 0.3, 0.4, 0.5, 0.6, 0.7, 0.8, 0.9, 1. , 1.1, 1.2,\n",
       "       1.3, 1.4, 1.5, 1.6, 1.7, 1.8, 1.9, 2. ])"
      ]
     },
     "execution_count": 20,
     "metadata": {},
     "output_type": "execute_result"
    }
   ],
   "source": [
    "np.arange(0., n_steps + 1) * 0.1"
   ]
  },
  {
   "cell_type": "code",
   "execution_count": 25,
   "metadata": {},
   "outputs": [
    {
     "name": "stdout",
     "output_type": "stream",
     "text": [
      "[[25.43989073 25.53989073 25.63989073 25.73989073 25.83989073 25.93989073\n",
      "  26.03989073 26.13989073 26.23989073 26.33989073 26.43989073 26.53989073\n",
      "  26.63989073 26.73989073 26.83989073 26.93989073 27.03989073 27.13989073\n",
      "  27.23989073 27.33989073 27.43989073]\n",
      " [22.06735638 22.16735638 22.26735638 22.36735638 22.46735638 22.56735638\n",
      "  22.66735638 22.76735638 22.86735638 22.96735638 23.06735638 23.16735638\n",
      "  23.26735638 23.36735638 23.46735638 23.56735638 23.66735638 23.76735638\n",
      "  23.86735638 23.96735638 24.06735638]]\n",
      "(2, 21)\n",
      "(2, 20, 1)\n"
     ]
    }
   ],
   "source": [
    "batch_size = 2\n",
    "n_steps = 20\n",
    "t0 = np.random.rand(batch_size, 1) * (30- 0 - n_steps * 0.1)  # t0 size (batch_size, 1)\n",
    "Ts = t0 + np.arange(0., n_steps + 1) * 0.1\n",
    "# print(t0)\n",
    "print(Ts)\n",
    "print(Ts.shape)\n",
    "a = Ts[:, :-1].reshape(-1, n_steps, 1)\n",
    "# b = Ts[:, 1:].reshape(-1, n_steps, 1)\n",
    "print(a.shape)"
   ]
  },
  {
   "cell_type": "code",
   "execution_count": 22,
   "metadata": {},
   "outputs": [
    {
     "data": {
      "text/plain": [
       "(1, 21)"
      ]
     },
     "execution_count": 22,
     "metadata": {},
     "output_type": "execute_result"
    }
   ],
   "source": [
    "(Ts).shape"
   ]
  },
  {
   "cell_type": "code",
   "execution_count": 3,
   "metadata": {},
   "outputs": [
    {
     "name": "stdout",
     "output_type": "stream",
     "text": [
      "WARNING:tensorflow:From D:\\Users\\admin\\Anaconda3\\lib\\site-packages\\tensorflow\\python\\ops\\resource_variable_ops.py:435: colocate_with (from tensorflow.python.framework.ops) is deprecated and will be removed in a future version.\n",
      "Instructions for updating:\n",
      "Colocations handled automatically by placer.\n",
      "WARNING:tensorflow:From G:\\jupyter-notebook\\PHMe20\\deepar\\model\\loss.py:6: div (from tensorflow.python.ops.math_ops) is deprecated and will be removed in a future version.\n",
      "Instructions for updating:\n",
      "Deprecated in favor of operator or tf.math.divide.\n",
      "Epoch 1/50\n",
      "50/50 [==============================] - ETA: 40s - loss: 11.353 - ETA: 8s - loss: 15.646 - ETA: 3s - loss: 14.18 - ETA: 2s - loss: 13.09 - ETA: 1s - loss: 13.92 - ETA: 1s - loss: 12.76 - ETA: 0s - loss: 12.34 - ETA: 0s - loss: 12.37 - ETA: 0s - loss: 12.06 - 1s 26ms/step - loss: 12.2602\n",
      "Epoch 2/50\n",
      "50/50 [==============================] - ETA: 0s - loss: 17.41 - ETA: 0s - loss: 14.06 - ETA: 0s - loss: 13.11 - ETA: 0s - loss: 12.87 - ETA: 0s - loss: 12.94 - ETA: 0s - loss: 12.63 - ETA: 0s - loss: 12.69 - ETA: 0s - loss: 12.48 - 0s 8ms/step - loss: 12.4493\n",
      "Epoch 3/50\n",
      "50/50 [==============================] - ETA: 0s - loss: 7.946 - ETA: 0s - loss: 12.78 - ETA: 0s - loss: 11.75 - ETA: 0s - loss: 11.58 - ETA: 0s - loss: 11.00 - ETA: 0s - loss: 11.33 - ETA: 0s - loss: 11.87 - ETA: 0s - loss: 12.01 - 0s 8ms/step - loss: 12.1525\n",
      "Epoch 4/50\n",
      "50/50 [==============================] - ETA: 0s - loss: 7.434 - ETA: 0s - loss: 13.87 - ETA: 0s - loss: 12.34 - ETA: 0s - loss: 11.55 - ETA: 0s - loss: 11.45 - ETA: 0s - loss: 11.15 - ETA: 0s - loss: 10.88 - ETA: 0s - loss: 10.84 - 0s 8ms/step - loss: 10.6704\n",
      "Epoch 5/50\n",
      "50/50 [==============================] - ETA: 0s - loss: 15.86 - ETA: 0s - loss: 12.27 - ETA: 0s - loss: 12.40 - ETA: 0s - loss: 11.45 - ETA: 0s - loss: 10.99 - ETA: 0s - loss: 11.04 - ETA: 0s - loss: 11.05 - ETA: 0s - loss: 11.11 - 0s 8ms/step - loss: 11.2664\n",
      "Epoch 6/50\n",
      "50/50 [==============================] - ETA: 0s - loss: 6.606 - ETA: 0s - loss: 9.951 - ETA: 0s - loss: 9.860 - ETA: 0s - loss: 9.641 - ETA: 0s - loss: 9.153 - ETA: 0s - loss: 9.248 - ETA: 0s - loss: 9.990 - ETA: 0s - loss: 9.907 - 0s 8ms/step - loss: 9.8833\n",
      "Epoch 7/50\n",
      "50/50 [==============================] - ETA: 0s - loss: 7.989 - ETA: 0s - loss: 9.455 - ETA: 0s - loss: 9.906 - ETA: 0s - loss: 11.48 - ETA: 0s - loss: 11.56 - ETA: 0s - loss: 10.77 - ETA: 0s - loss: 10.61 - ETA: 0s - loss: 10.44 - 0s 8ms/step - loss: 10.5108\n",
      "Epoch 8/50\n",
      "50/50 [==============================] - ETA: 0s - loss: 6.932 - ETA: 0s - loss: 12.94 - ETA: 0s - loss: 11.75 - ETA: 0s - loss: 10.30 - ETA: 0s - loss: 10.13 - ETA: 0s - loss: 10.32 - ETA: 0s - loss: 10.15 - ETA: 0s - loss: 10.25 - 0s 8ms/step - loss: 10.2218\n",
      "Epoch 9/50\n",
      "50/50 [==============================] - ETA: 0s - loss: 8.028 - ETA: 0s - loss: 10.71 - ETA: 0s - loss: 9.3106 - ETA: 0s - loss: 9.390 - ETA: 0s - loss: 9.418 - ETA: 0s - loss: 9.410 - ETA: 0s - loss: 9.356 - 0s 8ms/step - loss: 9.4343\n",
      "Epoch 10/50\n",
      "50/50 [==============================] - ETA: 0s - loss: 9.588 - ETA: 0s - loss: 10.11 - ETA: 0s - loss: 9.8262 - ETA: 0s - loss: 9.568 - ETA: 0s - loss: 9.079 - ETA: 0s - loss: 9.038 - ETA: 0s - loss: 9.217 - ETA: 0s - loss: 9.336 - 0s 8ms/step - loss: 9.2884\n",
      "Epoch 11/50\n",
      "50/50 [==============================] - ETA: 0s - loss: 7.586 - ETA: 0s - loss: 9.139 - ETA: 0s - loss: 8.430 - ETA: 0s - loss: 8.752 - ETA: 0s - loss: 9.250 - ETA: 0s - loss: 8.850 - ETA: 0s - loss: 8.602 - 0s 8ms/step - loss: 8.6592\n",
      "Epoch 12/50\n",
      "50/50 [==============================] - ETA: 0s - loss: 6.517 - ETA: 0s - loss: 9.699 - ETA: 0s - loss: 9.109 - ETA: 0s - loss: 8.714 - ETA: 0s - loss: 9.260 - ETA: 0s - loss: 8.954 - ETA: 0s - loss: 9.051 - 0s 8ms/step - loss: 8.9132\n",
      "Epoch 13/50\n",
      "50/50 [==============================] - ETA: 0s - loss: 6.555 - ETA: 0s - loss: 9.496 - ETA: 0s - loss: 9.106 - ETA: 0s - loss: 9.117 - ETA: 0s - loss: 9.193 - ETA: 0s - loss: 8.990 - ETA: 0s - loss: 8.697 - 0s 8ms/step - loss: 8.6355\n",
      "Epoch 14/50\n",
      "50/50 [==============================] - ETA: 0s - loss: 8.207 - ETA: 0s - loss: 8.002 - ETA: 0s - loss: 8.263 - ETA: 0s - loss: 8.713 - ETA: 0s - loss: 8.486 - ETA: 0s - loss: 8.570 - ETA: 0s - loss: 8.499 - 0s 8ms/step - loss: 8.5201\n",
      "Epoch 15/50\n",
      "50/50 [==============================] - ETA: 0s - loss: 6.628 - ETA: 0s - loss: 7.149 - ETA: 0s - loss: 7.671 - ETA: 0s - loss: 7.727 - ETA: 0s - loss: 7.662 - ETA: 0s - loss: 7.809 - ETA: 0s - loss: 7.980 - 0s 8ms/step - loss: 7.9162\n",
      "Epoch 16/50\n",
      "50/50 [==============================] - ETA: 0s - loss: 6.424 - ETA: 0s - loss: 7.058 - ETA: 0s - loss: 7.098 - ETA: 0s - loss: 7.742 - ETA: 0s - loss: 7.756 - ETA: 0s - loss: 7.887 - ETA: 0s - loss: 7.890 - ETA: 0s - loss: 7.894 - 0s 8ms/step - loss: 7.9006\n",
      "Epoch 17/50\n",
      "50/50 [==============================] - ETA: 0s - loss: 14.11 - ETA: 0s - loss: 9.3099 - ETA: 0s - loss: 8.655 - ETA: 0s - loss: 8.239 - ETA: 0s - loss: 7.940 - ETA: 0s - loss: 7.862 - ETA: 0s - loss: 7.777 - 0s 7ms/step - loss: 7.8668\n",
      "Epoch 18/50\n",
      "50/50 [==============================] - ETA: 0s - loss: 11.97 - ETA: 0s - loss: 8.3306 - ETA: 0s - loss: 8.266 - ETA: 0s - loss: 7.816 - ETA: 0s - loss: 7.606 - ETA: 0s - loss: 7.523 - ETA: 0s - loss: 7.466 - 0s 7ms/step - loss: 7.4580\n",
      "Epoch 19/50\n",
      "50/50 [==============================] - ETA: 0s - loss: 7.524 - ETA: 0s - loss: 7.286 - ETA: 0s - loss: 7.599 - ETA: 0s - loss: 7.614 - ETA: 0s - loss: 7.627 - ETA: 0s - loss: 7.660 - ETA: 0s - loss: 7.456 - 0s 7ms/step - loss: 7.4410\n",
      "Epoch 20/50\n",
      "50/50 [==============================] - ETA: 0s - loss: 6.795 - ETA: 0s - loss: 7.274 - ETA: 0s - loss: 7.279 - ETA: 0s - loss: 7.460 - ETA: 0s - loss: 7.386 - ETA: 0s - loss: 7.356 - ETA: 0s - loss: 7.336 - 0s 7ms/step - loss: 7.3264\n",
      "Epoch 21/50\n",
      "50/50 [==============================] - ETA: 0s - loss: 6.272 - ETA: 0s - loss: 6.738 - ETA: 0s - loss: 6.782 - ETA: 0s - loss: 6.958 - ETA: 0s - loss: 6.896 - ETA: 0s - loss: 6.846 - ETA: 0s - loss: 6.876 - 0s 7ms/step - loss: 6.8712\n",
      "Epoch 22/50\n",
      "50/50 [==============================] - ETA: 0s - loss: 6.229 - ETA: 0s - loss: 7.010 - ETA: 0s - loss: 7.669 - ETA: 0s - loss: 7.657 - ETA: 0s - loss: 7.373 - ETA: 0s - loss: 7.199 - ETA: 0s - loss: 7.152 - 0s 7ms/step - loss: 7.1444\n",
      "Epoch 23/50\n",
      "50/50 [==============================] - ETA: 0s - loss: 6.936 - ETA: 0s - loss: 6.557 - ETA: 0s - loss: 6.706 - ETA: 0s - loss: 6.689 - ETA: 0s - loss: 6.667 - ETA: 0s - loss: 6.641 - ETA: 0s - loss: 6.594 - 0s 7ms/step - loss: 6.5826\n",
      "Epoch 24/50\n",
      "50/50 [==============================] - ETA: 0s - loss: 6.341 - ETA: 0s - loss: 6.305 - ETA: 0s - loss: 6.488 - ETA: 0s - loss: 6.359 - ETA: 0s - loss: 6.286 - ETA: 0s - loss: 6.291 - ETA: 0s - loss: 6.227 - 0s 7ms/step - loss: 6.2292\n",
      "Epoch 25/50\n",
      "50/50 [==============================] - ETA: 0s - loss: 9.016 - ETA: 0s - loss: 6.417 - ETA: 0s - loss: 6.209 - ETA: 0s - loss: 6.207 - ETA: 0s - loss: 6.236 - ETA: 0s - loss: 6.200 - ETA: 0s - loss: 6.269 - 0s 7ms/step - loss: 6.2874\n",
      "Epoch 26/50\n",
      "50/50 [==============================] - ETA: 0s - loss: 6.741 - ETA: 0s - loss: 6.338 - ETA: 0s - loss: 6.350 - ETA: 0s - loss: 6.360 - ETA: 0s - loss: 6.262 - ETA: 0s - loss: 6.361 - ETA: 0s - loss: 6.358 - 0s 7ms/step - loss: 6.3578\n",
      "Epoch 27/50\n",
      "50/50 [==============================] - ETA: 0s - loss: 5.624 - ETA: 0s - loss: 5.774 - ETA: 0s - loss: 6.294 - ETA: 0s - loss: 6.264 - ETA: 0s - loss: 6.264 - ETA: 0s - loss: 6.296 - ETA: 0s - loss: 6.239 - 0s 7ms/step - loss: 6.2195\n",
      "Epoch 28/50\n",
      "50/50 [==============================] - ETA: 0s - loss: 4.854 - ETA: 0s - loss: 5.864 - ETA: 0s - loss: 5.797 - ETA: 0s - loss: 5.743 - ETA: 0s - loss: 5.909 - ETA: 0s - loss: 5.964 - ETA: 0s - loss: 5.931 - 0s 7ms/step - loss: 5.9137\n",
      "Epoch 29/50\n",
      "50/50 [==============================] - ETA: 0s - loss: 5.697 - ETA: 0s - loss: 6.039 - ETA: 0s - loss: 5.933 - ETA: 0s - loss: 6.074 - ETA: 0s - loss: 6.023 - ETA: 0s - loss: 6.109 - ETA: 0s - loss: 6.027 - 0s 7ms/step - loss: 6.0633\n",
      "Epoch 30/50\n"
     ]
    },
    {
     "name": "stdout",
     "output_type": "stream",
     "text": [
      "50/50 [==============================] - ETA: 0s - loss: 6.112 - ETA: 0s - loss: 5.562 - ETA: 0s - loss: 5.687 - ETA: 0s - loss: 5.795 - ETA: 0s - loss: 5.767 - ETA: 0s - loss: 5.879 - ETA: 0s - loss: 5.911 - 0s 7ms/step - loss: 5.9019\n",
      "Epoch 31/50\n",
      "50/50 [==============================] - ETA: 0s - loss: 7.457 - ETA: 0s - loss: 6.227 - ETA: 0s - loss: 5.880 - ETA: 0s - loss: 5.945 - ETA: 0s - loss: 5.960 - ETA: 0s - loss: 5.852 - ETA: 0s - loss: 5.798 - 0s 7ms/step - loss: 5.8181\n",
      "Epoch 32/50\n",
      "50/50 [==============================] - ETA: 0s - loss: 5.097 - ETA: 0s - loss: 6.041 - ETA: 0s - loss: 6.065 - ETA: 0s - loss: 6.097 - ETA: 0s - loss: 5.949 - ETA: 0s - loss: 5.904 - ETA: 0s - loss: 5.893 - 0s 7ms/step - loss: 5.9107\n",
      "Epoch 33/50\n",
      "50/50 [==============================] - ETA: 0s - loss: 5.107 - ETA: 0s - loss: 5.645 - ETA: 0s - loss: 5.557 - ETA: 0s - loss: 5.550 - ETA: 0s - loss: 5.758 - ETA: 0s - loss: 5.677 - ETA: 0s - loss: 5.779 - 0s 7ms/step - loss: 5.7589\n",
      "Epoch 34/50\n",
      "50/50 [==============================] - ETA: 0s - loss: 8.108 - ETA: 0s - loss: 6.229 - ETA: 0s - loss: 5.896 - ETA: 0s - loss: 5.965 - ETA: 0s - loss: 5.854 - ETA: 0s - loss: 5.801 - ETA: 0s - loss: 5.681 - 0s 7ms/step - loss: 5.6678\n",
      "Epoch 35/50\n",
      "50/50 [==============================] - ETA: 0s - loss: 6.870 - ETA: 0s - loss: 5.545 - ETA: 0s - loss: 5.983 - ETA: 0s - loss: 5.832 - ETA: 0s - loss: 5.642 - ETA: 0s - loss: 5.661 - ETA: 0s - loss: 5.657 - 0s 7ms/step - loss: 5.6393\n",
      "Epoch 36/50\n",
      "50/50 [==============================] - ETA: 0s - loss: 5.023 - ETA: 0s - loss: 6.026 - ETA: 0s - loss: 5.994 - ETA: 0s - loss: 5.764 - ETA: 0s - loss: 5.740 - ETA: 0s - loss: 5.749 - ETA: 0s - loss: 5.778 - 0s 7ms/step - loss: 5.8042\n",
      "Epoch 37/50\n",
      "50/50 [==============================] - ETA: 0s - loss: 5.282 - ETA: 0s - loss: 5.695 - ETA: 0s - loss: 5.696 - ETA: 0s - loss: 5.611 - ETA: 0s - loss: 5.479 - ETA: 0s - loss: 5.538 - ETA: 0s - loss: 5.520 - 0s 7ms/step - loss: 5.5469\n",
      "Epoch 38/50\n",
      "50/50 [==============================] - ETA: 0s - loss: 5.037 - ETA: 0s - loss: 5.550 - ETA: 0s - loss: 5.386 - ETA: 0s - loss: 5.391 - ETA: 0s - loss: 5.376 - ETA: 0s - loss: 5.444 - ETA: 0s - loss: 5.396 - 0s 7ms/step - loss: 5.3784\n",
      "Epoch 39/50\n",
      "50/50 [==============================] - ETA: 0s - loss: 7.777 - ETA: 0s - loss: 5.818 - ETA: 0s - loss: 5.629 - ETA: 0s - loss: 5.355 - ETA: 0s - loss: 5.333 - ETA: 0s - loss: 5.454 - ETA: 0s - loss: 5.398 - 0s 7ms/step - loss: 5.3895\n",
      "Epoch 40/50\n",
      "50/50 [==============================] - ETA: 0s - loss: 4.718 - ETA: 0s - loss: 5.039 - ETA: 0s - loss: 5.083 - ETA: 0s - loss: 5.030 - ETA: 0s - loss: 5.046 - ETA: 0s - loss: 5.167 - ETA: 0s - loss: 5.167 - 0s 7ms/step - loss: 5.1659\n",
      "Epoch 41/50\n",
      "50/50 [==============================] - ETA: 0s - loss: 6.746 - ETA: 0s - loss: 5.290 - ETA: 0s - loss: 5.445 - ETA: 0s - loss: 5.359 - ETA: 0s - loss: 5.322 - ETA: 0s - loss: 5.379 - ETA: 0s - loss: 5.338 - 0s 7ms/step - loss: 5.3850\n",
      "Epoch 42/50\n",
      "50/50 [==============================] - ETA: 0s - loss: 5.173 - ETA: 0s - loss: 5.145 - ETA: 0s - loss: 5.361 - ETA: 0s - loss: 5.406 - ETA: 0s - loss: 5.299 - ETA: 0s - loss: 5.339 - ETA: 0s - loss: 5.332 - 0s 7ms/step - loss: 5.3158\n",
      "Epoch 43/50\n",
      "50/50 [==============================] - ETA: 0s - loss: 5.438 - ETA: 0s - loss: 4.899 - ETA: 0s - loss: 5.073 - ETA: 0s - loss: 5.151 - ETA: 0s - loss: 5.158 - ETA: 0s - loss: 5.277 - ETA: 0s - loss: 5.172 - 0s 7ms/step - loss: 5.2042\n",
      "Epoch 44/50\n",
      "50/50 [==============================] - ETA: 0s - loss: 4.534 - ETA: 0s - loss: 4.944 - ETA: 0s - loss: 5.126 - ETA: 0s - loss: 5.161 - ETA: 0s - loss: 5.115 - ETA: 0s - loss: 5.031 - ETA: 0s - loss: 5.066 - 0s 7ms/step - loss: 5.0485\n",
      "Epoch 45/50\n",
      "50/50 [==============================] - ETA: 0s - loss: 4.696 - ETA: 0s - loss: 5.546 - ETA: 0s - loss: 5.526 - ETA: 0s - loss: 5.520 - ETA: 0s - loss: 5.387 - ETA: 0s - loss: 5.367 - ETA: 0s - loss: 5.308 - 0s 7ms/step - loss: 5.3354\n",
      "Epoch 46/50\n",
      "50/50 [==============================] - ETA: 0s - loss: 4.807 - ETA: 0s - loss: 4.722 - ETA: 0s - loss: 4.957 - ETA: 0s - loss: 5.172 - ETA: 0s - loss: 5.177 - ETA: 0s - loss: 5.197 - ETA: 0s - loss: 5.133 - 0s 7ms/step - loss: 5.1235\n",
      "Epoch 47/50\n",
      "50/50 [==============================] - ETA: 0s - loss: 4.326 - ETA: 0s - loss: 5.399 - ETA: 0s - loss: 5.126 - ETA: 0s - loss: 5.231 - ETA: 0s - loss: 5.388 - ETA: 0s - loss: 5.284 - ETA: 0s - loss: 5.217 - 0s 7ms/step - loss: 5.2086\n",
      "Epoch 48/50\n",
      "50/50 [==============================] - ETA: 0s - loss: 4.444 - ETA: 0s - loss: 5.353 - ETA: 0s - loss: 5.148 - ETA: 0s - loss: 5.243 - ETA: 0s - loss: 5.132 - ETA: 0s - loss: 5.192 - ETA: 0s - loss: 5.226 - 0s 7ms/step - loss: 5.2672\n",
      "Epoch 49/50\n",
      "50/50 [==============================] - ETA: 0s - loss: 4.852 - ETA: 0s - loss: 5.572 - ETA: 0s - loss: 5.703 - ETA: 0s - loss: 5.394 - ETA: 0s - loss: 5.326 - ETA: 0s - loss: 5.276 - ETA: 0s - loss: 5.213 - 0s 7ms/step - loss: 5.2015\n",
      "Epoch 50/50\n",
      "50/50 [==============================] - ETA: 0s - loss: 4.450 - ETA: 0s - loss: 5.256 - ETA: 0s - loss: 5.233 - ETA: 0s - loss: 5.198 - ETA: 0s - loss: 5.128 - ETA: 0s - loss: 5.128 - ETA: 0s - loss: 5.123 - 0s 7ms/step - loss: 5.1181\n"
     ]
    }
   ],
   "source": [
    "# load data and define model\n",
    "ts = MockTs()\n",
    "dp_model = DeepAR(ts, epochs=50)\n",
    "dp_model.instantiate_and_fit()"
   ]
  },
  {
   "cell_type": "code",
   "execution_count": 4,
   "metadata": {},
   "outputs": [],
   "source": [
    "def get_sample_prediction(sample, fn):\n",
    "    sample = np.array(sample).reshape(1, 20, 1)\n",
    "    output = fn([sample])\n",
    "    samples = []\n",
    "    for mu,sigma in zip(output[0].reshape(20), output[1].reshape(20)):\n",
    "        # normal generate a random number(float), which is Gaussian distrubution\n",
    "        samples.append(normal(loc=mu, scale=np.sqrt(sigma), size=1)[0])\n",
    "    return np.array(samples)"
   ]
  },
  {
   "cell_type": "code",
   "execution_count": 14,
   "metadata": {},
   "outputs": [
    {
     "data": {
      "text/plain": [
       "(1, 20, 1)"
      ]
     },
     "execution_count": 14,
     "metadata": {},
     "output_type": "execute_result"
    }
   ],
   "source": [
    "(a[0]).shape"
   ]
  },
  {
   "cell_type": "code",
   "execution_count": 17,
   "metadata": {},
   "outputs": [
    {
     "data": {
      "text/plain": [
       "(1, 20, 1)"
      ]
     },
     "execution_count": 17,
     "metadata": {},
     "output_type": "execute_result"
    }
   ],
   "source": [
    "(a[1]).shape"
   ]
  },
  {
   "cell_type": "code",
   "execution_count": 18,
   "metadata": {},
   "outputs": [
    {
     "data": {
      "text/plain": [
       "array([[[ 1.02528007],\n",
       "        [ 0.97893335],\n",
       "        [ 0.89675491],\n",
       "        [ 0.78246599],\n",
       "        [ 0.64111027],\n",
       "        [ 0.47885248],\n",
       "        [ 0.30273235],\n",
       "        [ 0.12038362],\n",
       "        [-0.06027059],\n",
       "        [-0.23133408],\n",
       "        [-0.38525271],\n",
       "        [-0.51511598],\n",
       "        [-0.61493299],\n",
       "        [-0.67987169],\n",
       "        [-0.70645205],\n",
       "        [-0.69268525],\n",
       "        [-0.63815356],\n",
       "        [-0.54402744],\n",
       "        [-0.41301954],\n",
       "        [-0.2492771 ]]])"
      ]
     },
     "execution_count": 18,
     "metadata": {},
     "output_type": "execute_result"
    }
   ],
   "source": [
    "a[1]"
   ]
  },
  {
   "cell_type": "code",
   "execution_count": 12,
   "metadata": {},
   "outputs": [
    {
     "data": {
      "text/plain": [
       "array([[[ 1.0335448 ],\n",
       "        [ 1.02528007],\n",
       "        [ 0.97893335],\n",
       "        [ 0.89675491],\n",
       "        [ 0.78246599],\n",
       "        [ 0.64111027],\n",
       "        [ 0.47885248],\n",
       "        [ 0.30273235],\n",
       "        [ 0.12038362],\n",
       "        [-0.06027059],\n",
       "        [-0.23133408],\n",
       "        [-0.38525271],\n",
       "        [-0.51511598],\n",
       "        [-0.61493299],\n",
       "        [-0.67987169],\n",
       "        [-0.70645205],\n",
       "        [-0.69268525],\n",
       "        [-0.63815356],\n",
       "        [-0.54402744],\n",
       "        [-0.41301954]]])"
      ]
     },
     "execution_count": 12,
     "metadata": {},
     "output_type": "execute_result"
    }
   ],
   "source": [
    "a[0]"
   ]
  },
  {
   "cell_type": "code",
   "execution_count": 6,
   "metadata": {},
   "outputs": [],
   "source": [
    "a = ts.next_batch(1, 20)"
   ]
  },
  {
   "cell_type": "code",
   "execution_count": 7,
   "metadata": {},
   "outputs": [
    {
     "ename": "KeyError",
     "evalue": "None",
     "output_type": "error",
     "traceback": [
      "\u001b[1;31m---------------------------------------------------------------------------\u001b[0m",
      "\u001b[1;31mKeyError\u001b[0m                                  Traceback (most recent call last)",
      "\u001b[1;32mD:\\Users\\admin\\Anaconda3\\lib\\site-packages\\pandas\\core\\indexes\\base.py\u001b[0m in \u001b[0;36mget_loc\u001b[1;34m(self, key, method, tolerance)\u001b[0m\n\u001b[0;32m   2896\u001b[0m             \u001b[1;32mtry\u001b[0m\u001b[1;33m:\u001b[0m\u001b[1;33m\u001b[0m\u001b[1;33m\u001b[0m\u001b[0m\n\u001b[1;32m-> 2897\u001b[1;33m                 \u001b[1;32mreturn\u001b[0m \u001b[0mself\u001b[0m\u001b[1;33m.\u001b[0m\u001b[0m_engine\u001b[0m\u001b[1;33m.\u001b[0m\u001b[0mget_loc\u001b[0m\u001b[1;33m(\u001b[0m\u001b[0mkey\u001b[0m\u001b[1;33m)\u001b[0m\u001b[1;33m\u001b[0m\u001b[1;33m\u001b[0m\u001b[0m\n\u001b[0m\u001b[0;32m   2898\u001b[0m             \u001b[1;32mexcept\u001b[0m \u001b[0mKeyError\u001b[0m\u001b[1;33m:\u001b[0m\u001b[1;33m\u001b[0m\u001b[1;33m\u001b[0m\u001b[0m\n",
      "\u001b[1;32mpandas\\_libs\\index.pyx\u001b[0m in \u001b[0;36mpandas._libs.index.IndexEngine.get_loc\u001b[1;34m()\u001b[0m\n",
      "\u001b[1;32mpandas\\_libs\\index.pyx\u001b[0m in \u001b[0;36mpandas._libs.index.IndexEngine.get_loc\u001b[1;34m()\u001b[0m\n",
      "\u001b[1;32mpandas\\_libs\\hashtable_class_helper.pxi\u001b[0m in \u001b[0;36mpandas._libs.hashtable.PyObjectHashTable.get_item\u001b[1;34m()\u001b[0m\n",
      "\u001b[1;32mpandas\\_libs\\hashtable_class_helper.pxi\u001b[0m in \u001b[0;36mpandas._libs.hashtable.PyObjectHashTable.get_item\u001b[1;34m()\u001b[0m\n",
      "\u001b[1;31mKeyError\u001b[0m: None",
      "\nDuring handling of the above exception, another exception occurred:\n",
      "\u001b[1;31mKeyError\u001b[0m                                  Traceback (most recent call last)",
      "\u001b[1;32m<ipython-input-7-d69c769d17c4>\u001b[0m in \u001b[0;36m<module>\u001b[1;34m\u001b[0m\n\u001b[0;32m      2\u001b[0m \u001b[1;31m# ---> return a tuple X (feature space), y\u001b[0m\u001b[1;33m\u001b[0m\u001b[1;33m\u001b[0m\u001b[1;33m\u001b[0m\u001b[0m\n\u001b[0;32m      3\u001b[0m \u001b[1;31m# X = ( batch_size, n_steps, -1 )\u001b[0m\u001b[1;33m\u001b[0m\u001b[1;33m\u001b[0m\u001b[1;33m\u001b[0m\u001b[0m\n\u001b[1;32m----> 4\u001b[1;33m \u001b[0mbatch\u001b[0m \u001b[1;33m=\u001b[0m \u001b[0mts\u001b[0m\u001b[1;33m.\u001b[0m\u001b[0mnext_batch\u001b[0m\u001b[1;33m(\u001b[0m\u001b[1;36m1\u001b[0m\u001b[1;33m,\u001b[0m \u001b[1;36m20\u001b[0m\u001b[1;33m)\u001b[0m\u001b[1;33m\u001b[0m\u001b[1;33m\u001b[0m\u001b[0m\n\u001b[0m\u001b[0;32m      5\u001b[0m \u001b[1;33m\u001b[0m\u001b[0m\n\u001b[0;32m      6\u001b[0m \u001b[0mress\u001b[0m \u001b[1;33m=\u001b[0m \u001b[1;33m[\u001b[0m\u001b[1;33m]\u001b[0m\u001b[1;33m\u001b[0m\u001b[1;33m\u001b[0m\u001b[0m\n",
      "\u001b[1;32mG:\\jupyter-notebook\\PHMe20\\deepar\\dataset\\time_series.py\u001b[0m in \u001b[0;36mnext_batch\u001b[1;34m(self, batch_size, n_steps, target_var, verbose, padding_value)\u001b[0m\n\u001b[0;32m    130\u001b[0m \u001b[1;33m\u001b[0m\u001b[0m\n\u001b[0;32m    131\u001b[0m         \u001b[1;31m# Select n_batch time series\u001b[0m\u001b[1;33m\u001b[0m\u001b[1;33m\u001b[0m\u001b[1;33m\u001b[0m\u001b[0m\n\u001b[1;32m--> 132\u001b[1;33m         \u001b[0mgroups_list\u001b[0m \u001b[1;33m=\u001b[0m \u001b[0mself\u001b[0m\u001b[1;33m.\u001b[0m\u001b[0mdata\u001b[0m\u001b[1;33m[\u001b[0m\u001b[0mself\u001b[0m\u001b[1;33m.\u001b[0m\u001b[0mgrouping_variable\u001b[0m\u001b[1;33m]\u001b[0m\u001b[1;33m.\u001b[0m\u001b[0munique\u001b[0m\u001b[1;33m(\u001b[0m\u001b[1;33m)\u001b[0m\u001b[1;33m\u001b[0m\u001b[1;33m\u001b[0m\u001b[0m\n\u001b[0m\u001b[0;32m    133\u001b[0m         \u001b[0mnp\u001b[0m\u001b[1;33m.\u001b[0m\u001b[0mrandom\u001b[0m\u001b[1;33m.\u001b[0m\u001b[0mshuffle\u001b[0m\u001b[1;33m(\u001b[0m\u001b[0mgroups_list\u001b[0m\u001b[1;33m)\u001b[0m\u001b[1;33m\u001b[0m\u001b[1;33m\u001b[0m\u001b[0m\n\u001b[0;32m    134\u001b[0m         \u001b[0mselected_groups\u001b[0m \u001b[1;33m=\u001b[0m \u001b[0mgroups_list\u001b[0m\u001b[1;33m[\u001b[0m\u001b[1;33m:\u001b[0m\u001b[0mbatch_size\u001b[0m\u001b[1;33m]\u001b[0m\u001b[1;33m\u001b[0m\u001b[1;33m\u001b[0m\u001b[0m\n",
      "\u001b[1;32mD:\\Users\\admin\\Anaconda3\\lib\\site-packages\\pandas\\core\\frame.py\u001b[0m in \u001b[0;36m__getitem__\u001b[1;34m(self, key)\u001b[0m\n\u001b[0;32m   2978\u001b[0m             \u001b[1;32mif\u001b[0m \u001b[0mself\u001b[0m\u001b[1;33m.\u001b[0m\u001b[0mcolumns\u001b[0m\u001b[1;33m.\u001b[0m\u001b[0mnlevels\u001b[0m \u001b[1;33m>\u001b[0m \u001b[1;36m1\u001b[0m\u001b[1;33m:\u001b[0m\u001b[1;33m\u001b[0m\u001b[1;33m\u001b[0m\u001b[0m\n\u001b[0;32m   2979\u001b[0m                 \u001b[1;32mreturn\u001b[0m \u001b[0mself\u001b[0m\u001b[1;33m.\u001b[0m\u001b[0m_getitem_multilevel\u001b[0m\u001b[1;33m(\u001b[0m\u001b[0mkey\u001b[0m\u001b[1;33m)\u001b[0m\u001b[1;33m\u001b[0m\u001b[1;33m\u001b[0m\u001b[0m\n\u001b[1;32m-> 2980\u001b[1;33m             \u001b[0mindexer\u001b[0m \u001b[1;33m=\u001b[0m \u001b[0mself\u001b[0m\u001b[1;33m.\u001b[0m\u001b[0mcolumns\u001b[0m\u001b[1;33m.\u001b[0m\u001b[0mget_loc\u001b[0m\u001b[1;33m(\u001b[0m\u001b[0mkey\u001b[0m\u001b[1;33m)\u001b[0m\u001b[1;33m\u001b[0m\u001b[1;33m\u001b[0m\u001b[0m\n\u001b[0m\u001b[0;32m   2981\u001b[0m             \u001b[1;32mif\u001b[0m \u001b[0mis_integer\u001b[0m\u001b[1;33m(\u001b[0m\u001b[0mindexer\u001b[0m\u001b[1;33m)\u001b[0m\u001b[1;33m:\u001b[0m\u001b[1;33m\u001b[0m\u001b[1;33m\u001b[0m\u001b[0m\n\u001b[0;32m   2982\u001b[0m                 \u001b[0mindexer\u001b[0m \u001b[1;33m=\u001b[0m \u001b[1;33m[\u001b[0m\u001b[0mindexer\u001b[0m\u001b[1;33m]\u001b[0m\u001b[1;33m\u001b[0m\u001b[1;33m\u001b[0m\u001b[0m\n",
      "\u001b[1;32mD:\\Users\\admin\\Anaconda3\\lib\\site-packages\\pandas\\core\\indexes\\base.py\u001b[0m in \u001b[0;36mget_loc\u001b[1;34m(self, key, method, tolerance)\u001b[0m\n\u001b[0;32m   2897\u001b[0m                 \u001b[1;32mreturn\u001b[0m \u001b[0mself\u001b[0m\u001b[1;33m.\u001b[0m\u001b[0m_engine\u001b[0m\u001b[1;33m.\u001b[0m\u001b[0mget_loc\u001b[0m\u001b[1;33m(\u001b[0m\u001b[0mkey\u001b[0m\u001b[1;33m)\u001b[0m\u001b[1;33m\u001b[0m\u001b[1;33m\u001b[0m\u001b[0m\n\u001b[0;32m   2898\u001b[0m             \u001b[1;32mexcept\u001b[0m \u001b[0mKeyError\u001b[0m\u001b[1;33m:\u001b[0m\u001b[1;33m\u001b[0m\u001b[1;33m\u001b[0m\u001b[0m\n\u001b[1;32m-> 2899\u001b[1;33m                 \u001b[1;32mreturn\u001b[0m \u001b[0mself\u001b[0m\u001b[1;33m.\u001b[0m\u001b[0m_engine\u001b[0m\u001b[1;33m.\u001b[0m\u001b[0mget_loc\u001b[0m\u001b[1;33m(\u001b[0m\u001b[0mself\u001b[0m\u001b[1;33m.\u001b[0m\u001b[0m_maybe_cast_indexer\u001b[0m\u001b[1;33m(\u001b[0m\u001b[0mkey\u001b[0m\u001b[1;33m)\u001b[0m\u001b[1;33m)\u001b[0m\u001b[1;33m\u001b[0m\u001b[1;33m\u001b[0m\u001b[0m\n\u001b[0m\u001b[0;32m   2900\u001b[0m         \u001b[0mindexer\u001b[0m \u001b[1;33m=\u001b[0m \u001b[0mself\u001b[0m\u001b[1;33m.\u001b[0m\u001b[0mget_indexer\u001b[0m\u001b[1;33m(\u001b[0m\u001b[1;33m[\u001b[0m\u001b[0mkey\u001b[0m\u001b[1;33m]\u001b[0m\u001b[1;33m,\u001b[0m \u001b[0mmethod\u001b[0m\u001b[1;33m=\u001b[0m\u001b[0mmethod\u001b[0m\u001b[1;33m,\u001b[0m \u001b[0mtolerance\u001b[0m\u001b[1;33m=\u001b[0m\u001b[0mtolerance\u001b[0m\u001b[1;33m)\u001b[0m\u001b[1;33m\u001b[0m\u001b[1;33m\u001b[0m\u001b[0m\n\u001b[0;32m   2901\u001b[0m         \u001b[1;32mif\u001b[0m \u001b[0mindexer\u001b[0m\u001b[1;33m.\u001b[0m\u001b[0mndim\u001b[0m \u001b[1;33m>\u001b[0m \u001b[1;36m1\u001b[0m \u001b[1;32mor\u001b[0m \u001b[0mindexer\u001b[0m\u001b[1;33m.\u001b[0m\u001b[0msize\u001b[0m \u001b[1;33m>\u001b[0m \u001b[1;36m1\u001b[0m\u001b[1;33m:\u001b[0m\u001b[1;33m\u001b[0m\u001b[1;33m\u001b[0m\u001b[0m\n",
      "\u001b[1;32mpandas\\_libs\\index.pyx\u001b[0m in \u001b[0;36mpandas._libs.index.IndexEngine.get_loc\u001b[1;34m()\u001b[0m\n",
      "\u001b[1;32mpandas\\_libs\\index.pyx\u001b[0m in \u001b[0;36mpandas._libs.index.IndexEngine.get_loc\u001b[1;34m()\u001b[0m\n",
      "\u001b[1;32mpandas\\_libs\\hashtable_class_helper.pxi\u001b[0m in \u001b[0;36mpandas._libs.hashtable.PyObjectHashTable.get_item\u001b[1;34m()\u001b[0m\n",
      "\u001b[1;32mpandas\\_libs\\hashtable_class_helper.pxi\u001b[0m in \u001b[0;36mpandas._libs.hashtable.PyObjectHashTable.get_item\u001b[1;34m()\u001b[0m\n",
      "\u001b[1;31mKeyError\u001b[0m: None"
     ]
    }
   ],
   "source": [
    "# next_batch(self, batch_size, n_steps,target_var='target', verbose=False, padding_value=0) \n",
    "# ---> return a tuple X (feature space), y\n",
    "# X = ( batch_size, n_steps, -1 )\n",
    "batch = ts.next_batch(1, 20)  # next_batch(self, batch_size, n_steps):\n",
    "\n",
    "ress = []\n",
    "# tqdm 只是产生一个进度条\n",
    "for i in tqdm.tqdm(range(300)):\n",
    "    # predict_theta_from_input : 每次预测产生模型（高斯模型）的参数【均值，方差】数据, which is the optimal parameter value of Gaussion\n",
    "    # get_sample_prediction : 得到预测值，进去多少个就产生多少个\n",
    "    # get_sample_prediction 过程中并不会继续改变模型参数（即没有在训练），所以其实这个重复产生theta的过程是多余的\n",
    "    ress.append(get_sample_prediction(batch[0], dp_model.predict_theta_from_input))\n",
    "\n",
    "res_df = pd.DataFrame(ress).T\n",
    "tot_res = res_df\n",
    "\n",
    "plt.plot(batch[1].reshape(20), linewidth=6)\n",
    "tot_res['mu'] = tot_res.apply(lambda x: np.mean(x), axis=1)\n",
    "tot_res['upper'] = tot_res.apply(lambda x: np.mean(x) + np.std(x), axis=1)\n",
    "tot_res['lower'] = tot_res.apply(lambda x: np.mean(x) - np.std(x), axis=1)\n",
    "tot_res['two_upper'] = tot_res.apply(lambda x: np.mean(x) + 2*np.std(x), axis=1)\n",
    "tot_res['two_lower'] = tot_res.apply(lambda x: np.mean(x) - 2*np.std(x), axis=1)\n",
    "\n",
    "plt.plot(tot_res.mu, 'bo')\n",
    "plt.plot(tot_res.mu, linewidth=2)\n",
    "plt.legend(\"real\",\"predeict\")\n",
    "plt.fill_between(x = tot_res.index, y1=tot_res.lower, y2=tot_res.upper, alpha=0.5)\n",
    "plt.fill_between(x = tot_res.index, y1=tot_res.two_lower, y2=tot_res.two_upper, alpha=0.5)\n",
    "plt.title('Prediction uncertainty')"
   ]
  },
  {
   "cell_type": "markdown",
   "metadata": {},
   "source": [
    "# test"
   ]
  },
  {
   "cell_type": "code",
   "execution_count": 5,
   "metadata": {},
   "outputs": [
    {
     "data": {
      "text/html": [
       "<div>\n",
       "<style scoped>\n",
       "    .dataframe tbody tr th:only-of-type {\n",
       "        vertical-align: middle;\n",
       "    }\n",
       "\n",
       "    .dataframe tbody tr th {\n",
       "        vertical-align: top;\n",
       "    }\n",
       "\n",
       "    .dataframe thead th {\n",
       "        text-align: right;\n",
       "    }\n",
       "</style>\n",
       "<table border=\"1\" class=\"dataframe\">\n",
       "  <thead>\n",
       "    <tr style=\"text-align: right;\">\n",
       "      <th></th>\n",
       "      <th>target</th>\n",
       "    </tr>\n",
       "  </thead>\n",
       "  <tbody>\n",
       "    <tr>\n",
       "      <td>0</td>\n",
       "      <td>0.792360</td>\n",
       "    </tr>\n",
       "    <tr>\n",
       "      <td>1</td>\n",
       "      <td>0.520205</td>\n",
       "    </tr>\n",
       "    <tr>\n",
       "      <td>2</td>\n",
       "      <td>0.934503</td>\n",
       "    </tr>\n",
       "    <tr>\n",
       "      <td>3</td>\n",
       "      <td>0.972906</td>\n",
       "    </tr>\n",
       "    <tr>\n",
       "      <td>4</td>\n",
       "      <td>0.373318</td>\n",
       "    </tr>\n",
       "  </tbody>\n",
       "</table>\n",
       "</div>"
      ],
      "text/plain": [
       "     target\n",
       "0  0.792360\n",
       "1  0.520205\n",
       "2  0.934503\n",
       "3  0.972906\n",
       "4  0.373318"
      ]
     },
     "execution_count": 5,
     "metadata": {},
     "output_type": "execute_result"
    }
   ],
   "source": [
    "l = []\n",
    "for i in range(400):\n",
    "    y = 1.005**i+np.random.standard_normal()*0.3\n",
    "    l.append(y) \n",
    "ts = pd.DataFrame(l,columns=[\"target\"])\n",
    "ts.head()"
   ]
  },
  {
   "cell_type": "code",
   "execution_count": 6,
   "metadata": {},
   "outputs": [
    {
     "name": "stdout",
     "output_type": "stream",
     "text": [
      "Epoch 1/50\n"
     ]
    },
    {
     "ename": "KeyError",
     "evalue": "None",
     "output_type": "error",
     "traceback": [
      "\u001b[1;31m---------------------------------------------------------------------------\u001b[0m",
      "\u001b[1;31mKeyError\u001b[0m                                  Traceback (most recent call last)",
      "\u001b[1;32mD:\\Users\\admin\\Anaconda3\\lib\\site-packages\\pandas\\core\\indexes\\base.py\u001b[0m in \u001b[0;36mget_loc\u001b[1;34m(self, key, method, tolerance)\u001b[0m\n\u001b[0;32m   2896\u001b[0m             \u001b[1;32mtry\u001b[0m\u001b[1;33m:\u001b[0m\u001b[1;33m\u001b[0m\u001b[1;33m\u001b[0m\u001b[0m\n\u001b[1;32m-> 2897\u001b[1;33m                 \u001b[1;32mreturn\u001b[0m \u001b[0mself\u001b[0m\u001b[1;33m.\u001b[0m\u001b[0m_engine\u001b[0m\u001b[1;33m.\u001b[0m\u001b[0mget_loc\u001b[0m\u001b[1;33m(\u001b[0m\u001b[0mkey\u001b[0m\u001b[1;33m)\u001b[0m\u001b[1;33m\u001b[0m\u001b[1;33m\u001b[0m\u001b[0m\n\u001b[0m\u001b[0;32m   2898\u001b[0m             \u001b[1;32mexcept\u001b[0m \u001b[0mKeyError\u001b[0m\u001b[1;33m:\u001b[0m\u001b[1;33m\u001b[0m\u001b[1;33m\u001b[0m\u001b[0m\n",
      "\u001b[1;32mpandas\\_libs\\index.pyx\u001b[0m in \u001b[0;36mpandas._libs.index.IndexEngine.get_loc\u001b[1;34m()\u001b[0m\n",
      "\u001b[1;32mpandas\\_libs\\index.pyx\u001b[0m in \u001b[0;36mpandas._libs.index.IndexEngine.get_loc\u001b[1;34m()\u001b[0m\n",
      "\u001b[1;32mpandas\\_libs\\hashtable_class_helper.pxi\u001b[0m in \u001b[0;36mpandas._libs.hashtable.PyObjectHashTable.get_item\u001b[1;34m()\u001b[0m\n",
      "\u001b[1;32mpandas\\_libs\\hashtable_class_helper.pxi\u001b[0m in \u001b[0;36mpandas._libs.hashtable.PyObjectHashTable.get_item\u001b[1;34m()\u001b[0m\n",
      "\u001b[1;31mKeyError\u001b[0m: None",
      "\nDuring handling of the above exception, another exception occurred:\n",
      "\u001b[1;31mKeyError\u001b[0m                                  Traceback (most recent call last)",
      "\u001b[1;32m<ipython-input-6-3c50cd184bcd>\u001b[0m in \u001b[0;36m<module>\u001b[1;34m\u001b[0m\n\u001b[0;32m      4\u001b[0m \u001b[0mts\u001b[0m \u001b[1;33m=\u001b[0m \u001b[0mTimeSeries\u001b[0m\u001b[1;33m(\u001b[0m\u001b[0mts\u001b[0m\u001b[1;33m,\u001b[0m \u001b[0mgrouping_variable\u001b[0m \u001b[1;33m=\u001b[0m \u001b[1;32mNone\u001b[0m\u001b[1;33m)\u001b[0m\u001b[1;33m\u001b[0m\u001b[1;33m\u001b[0m\u001b[0m\n\u001b[0;32m      5\u001b[0m \u001b[0mdp_model\u001b[0m \u001b[1;33m=\u001b[0m \u001b[0mDeepAR\u001b[0m\u001b[1;33m(\u001b[0m\u001b[0mts\u001b[0m\u001b[1;33m,\u001b[0m \u001b[0mepochs\u001b[0m\u001b[1;33m=\u001b[0m\u001b[1;36m50\u001b[0m\u001b[1;33m)\u001b[0m\u001b[1;33m\u001b[0m\u001b[1;33m\u001b[0m\u001b[0m\n\u001b[1;32m----> 6\u001b[1;33m \u001b[0mdp_model\u001b[0m\u001b[1;33m.\u001b[0m\u001b[0minstantiate_and_fit\u001b[0m\u001b[1;33m(\u001b[0m\u001b[1;33m)\u001b[0m\u001b[1;33m\u001b[0m\u001b[1;33m\u001b[0m\u001b[0m\n\u001b[0m",
      "\u001b[1;32mG:\\jupyter-notebook\\PHMe20\\deepar\\model\\lstm.py\u001b[0m in \u001b[0;36minstantiate_and_fit\u001b[1;34m(self, verbose)\u001b[0m\n\u001b[0;32m     51\u001b[0m                                          input_shape[0]),\n\u001b[0;32m     52\u001b[0m                             \u001b[0msteps_per_epoch\u001b[0m\u001b[1;33m=\u001b[0m\u001b[0mself\u001b[0m\u001b[1;33m.\u001b[0m\u001b[0msteps_per_epoch\u001b[0m\u001b[1;33m,\u001b[0m\u001b[1;33m\u001b[0m\u001b[1;33m\u001b[0m\u001b[0m\n\u001b[1;32m---> 53\u001b[1;33m                             epochs=self.epochs)\n\u001b[0m\u001b[0;32m     54\u001b[0m         \u001b[1;32mif\u001b[0m \u001b[0mverbose\u001b[0m\u001b[1;33m:\u001b[0m\u001b[1;33m\u001b[0m\u001b[1;33m\u001b[0m\u001b[0m\n\u001b[0;32m     55\u001b[0m             \u001b[0mlogger\u001b[0m\u001b[1;33m.\u001b[0m\u001b[0mdebug\u001b[0m\u001b[1;33m(\u001b[0m\u001b[1;34m'Model was successfully trained'\u001b[0m\u001b[1;33m)\u001b[0m\u001b[1;33m\u001b[0m\u001b[1;33m\u001b[0m\u001b[0m\n",
      "\u001b[1;32mD:\\Users\\admin\\Anaconda3\\lib\\site-packages\\keras\\legacy\\interfaces.py\u001b[0m in \u001b[0;36mwrapper\u001b[1;34m(*args, **kwargs)\u001b[0m\n\u001b[0;32m     89\u001b[0m                 warnings.warn('Update your `' + object_name + '` call to the ' +\n\u001b[0;32m     90\u001b[0m                               'Keras 2 API: ' + signature, stacklevel=2)\n\u001b[1;32m---> 91\u001b[1;33m             \u001b[1;32mreturn\u001b[0m \u001b[0mfunc\u001b[0m\u001b[1;33m(\u001b[0m\u001b[1;33m*\u001b[0m\u001b[0margs\u001b[0m\u001b[1;33m,\u001b[0m \u001b[1;33m**\u001b[0m\u001b[0mkwargs\u001b[0m\u001b[1;33m)\u001b[0m\u001b[1;33m\u001b[0m\u001b[1;33m\u001b[0m\u001b[0m\n\u001b[0m\u001b[0;32m     92\u001b[0m         \u001b[0mwrapper\u001b[0m\u001b[1;33m.\u001b[0m\u001b[0m_original_function\u001b[0m \u001b[1;33m=\u001b[0m \u001b[0mfunc\u001b[0m\u001b[1;33m\u001b[0m\u001b[1;33m\u001b[0m\u001b[0m\n\u001b[0;32m     93\u001b[0m         \u001b[1;32mreturn\u001b[0m \u001b[0mwrapper\u001b[0m\u001b[1;33m\u001b[0m\u001b[1;33m\u001b[0m\u001b[0m\n",
      "\u001b[1;32mD:\\Users\\admin\\Anaconda3\\lib\\site-packages\\keras\\engine\\training.py\u001b[0m in \u001b[0;36mfit_generator\u001b[1;34m(self, generator, steps_per_epoch, epochs, verbose, callbacks, validation_data, validation_steps, validation_freq, class_weight, max_queue_size, workers, use_multiprocessing, shuffle, initial_epoch)\u001b[0m\n\u001b[0;32m   1730\u001b[0m             \u001b[0muse_multiprocessing\u001b[0m\u001b[1;33m=\u001b[0m\u001b[0muse_multiprocessing\u001b[0m\u001b[1;33m,\u001b[0m\u001b[1;33m\u001b[0m\u001b[1;33m\u001b[0m\u001b[0m\n\u001b[0;32m   1731\u001b[0m             \u001b[0mshuffle\u001b[0m\u001b[1;33m=\u001b[0m\u001b[0mshuffle\u001b[0m\u001b[1;33m,\u001b[0m\u001b[1;33m\u001b[0m\u001b[1;33m\u001b[0m\u001b[0m\n\u001b[1;32m-> 1732\u001b[1;33m             initial_epoch=initial_epoch)\n\u001b[0m\u001b[0;32m   1733\u001b[0m \u001b[1;33m\u001b[0m\u001b[0m\n\u001b[0;32m   1734\u001b[0m     \u001b[1;33m@\u001b[0m\u001b[0minterfaces\u001b[0m\u001b[1;33m.\u001b[0m\u001b[0mlegacy_generator_methods_support\u001b[0m\u001b[1;33m\u001b[0m\u001b[1;33m\u001b[0m\u001b[0m\n",
      "\u001b[1;32mD:\\Users\\admin\\Anaconda3\\lib\\site-packages\\keras\\engine\\training_generator.py\u001b[0m in \u001b[0;36mfit_generator\u001b[1;34m(model, generator, steps_per_epoch, epochs, verbose, callbacks, validation_data, validation_steps, validation_freq, class_weight, max_queue_size, workers, use_multiprocessing, shuffle, initial_epoch)\u001b[0m\n\u001b[0;32m    183\u001b[0m             \u001b[0mbatch_index\u001b[0m \u001b[1;33m=\u001b[0m \u001b[1;36m0\u001b[0m\u001b[1;33m\u001b[0m\u001b[1;33m\u001b[0m\u001b[0m\n\u001b[0;32m    184\u001b[0m             \u001b[1;32mwhile\u001b[0m \u001b[0msteps_done\u001b[0m \u001b[1;33m<\u001b[0m \u001b[0msteps_per_epoch\u001b[0m\u001b[1;33m:\u001b[0m\u001b[1;33m\u001b[0m\u001b[1;33m\u001b[0m\u001b[0m\n\u001b[1;32m--> 185\u001b[1;33m                 \u001b[0mgenerator_output\u001b[0m \u001b[1;33m=\u001b[0m \u001b[0mnext\u001b[0m\u001b[1;33m(\u001b[0m\u001b[0moutput_generator\u001b[0m\u001b[1;33m)\u001b[0m\u001b[1;33m\u001b[0m\u001b[1;33m\u001b[0m\u001b[0m\n\u001b[0m\u001b[0;32m    186\u001b[0m \u001b[1;33m\u001b[0m\u001b[0m\n\u001b[0;32m    187\u001b[0m                 \u001b[1;32mif\u001b[0m \u001b[1;32mnot\u001b[0m \u001b[0mhasattr\u001b[0m\u001b[1;33m(\u001b[0m\u001b[0mgenerator_output\u001b[0m\u001b[1;33m,\u001b[0m \u001b[1;34m'__len__'\u001b[0m\u001b[1;33m)\u001b[0m\u001b[1;33m:\u001b[0m\u001b[1;33m\u001b[0m\u001b[1;33m\u001b[0m\u001b[0m\n",
      "\u001b[1;32mD:\\Users\\admin\\Anaconda3\\lib\\site-packages\\keras\\utils\\data_utils.py\u001b[0m in \u001b[0;36mget\u001b[1;34m(self)\u001b[0m\n\u001b[0;32m    740\u001b[0m                     \u001b[1;34m\"`use_multiprocessing=False, workers > 1`.\"\u001b[0m\u001b[1;33m\u001b[0m\u001b[1;33m\u001b[0m\u001b[0m\n\u001b[0;32m    741\u001b[0m                     \"For more information see issue #1638.\")\n\u001b[1;32m--> 742\u001b[1;33m             \u001b[0msix\u001b[0m\u001b[1;33m.\u001b[0m\u001b[0mreraise\u001b[0m\u001b[1;33m(\u001b[0m\u001b[1;33m*\u001b[0m\u001b[0msys\u001b[0m\u001b[1;33m.\u001b[0m\u001b[0mexc_info\u001b[0m\u001b[1;33m(\u001b[0m\u001b[1;33m)\u001b[0m\u001b[1;33m)\u001b[0m\u001b[1;33m\u001b[0m\u001b[1;33m\u001b[0m\u001b[0m\n\u001b[0m",
      "\u001b[1;32mD:\\Users\\admin\\Anaconda3\\lib\\site-packages\\six.py\u001b[0m in \u001b[0;36mreraise\u001b[1;34m(tp, value, tb)\u001b[0m\n\u001b[0;32m    691\u001b[0m             \u001b[1;32mif\u001b[0m \u001b[0mvalue\u001b[0m\u001b[1;33m.\u001b[0m\u001b[0m__traceback__\u001b[0m \u001b[1;32mis\u001b[0m \u001b[1;32mnot\u001b[0m \u001b[0mtb\u001b[0m\u001b[1;33m:\u001b[0m\u001b[1;33m\u001b[0m\u001b[1;33m\u001b[0m\u001b[0m\n\u001b[0;32m    692\u001b[0m                 \u001b[1;32mraise\u001b[0m \u001b[0mvalue\u001b[0m\u001b[1;33m.\u001b[0m\u001b[0mwith_traceback\u001b[0m\u001b[1;33m(\u001b[0m\u001b[0mtb\u001b[0m\u001b[1;33m)\u001b[0m\u001b[1;33m\u001b[0m\u001b[1;33m\u001b[0m\u001b[0m\n\u001b[1;32m--> 693\u001b[1;33m             \u001b[1;32mraise\u001b[0m \u001b[0mvalue\u001b[0m\u001b[1;33m\u001b[0m\u001b[1;33m\u001b[0m\u001b[0m\n\u001b[0m\u001b[0;32m    694\u001b[0m         \u001b[1;32mfinally\u001b[0m\u001b[1;33m:\u001b[0m\u001b[1;33m\u001b[0m\u001b[1;33m\u001b[0m\u001b[0m\n\u001b[0;32m    695\u001b[0m             \u001b[0mvalue\u001b[0m \u001b[1;33m=\u001b[0m \u001b[1;32mNone\u001b[0m\u001b[1;33m\u001b[0m\u001b[1;33m\u001b[0m\u001b[0m\n",
      "\u001b[1;32mD:\\Users\\admin\\Anaconda3\\lib\\site-packages\\keras\\utils\\data_utils.py\u001b[0m in \u001b[0;36mget\u001b[1;34m(self)\u001b[0m\n\u001b[0;32m    709\u001b[0m                 \u001b[1;32mtry\u001b[0m\u001b[1;33m:\u001b[0m\u001b[1;33m\u001b[0m\u001b[1;33m\u001b[0m\u001b[0m\n\u001b[0;32m    710\u001b[0m                     \u001b[0mfuture\u001b[0m \u001b[1;33m=\u001b[0m \u001b[0mself\u001b[0m\u001b[1;33m.\u001b[0m\u001b[0mqueue\u001b[0m\u001b[1;33m.\u001b[0m\u001b[0mget\u001b[0m\u001b[1;33m(\u001b[0m\u001b[0mblock\u001b[0m\u001b[1;33m=\u001b[0m\u001b[1;32mTrue\u001b[0m\u001b[1;33m)\u001b[0m\u001b[1;33m\u001b[0m\u001b[1;33m\u001b[0m\u001b[0m\n\u001b[1;32m--> 711\u001b[1;33m                     \u001b[0minputs\u001b[0m \u001b[1;33m=\u001b[0m \u001b[0mfuture\u001b[0m\u001b[1;33m.\u001b[0m\u001b[0mget\u001b[0m\u001b[1;33m(\u001b[0m\u001b[0mtimeout\u001b[0m\u001b[1;33m=\u001b[0m\u001b[1;36m30\u001b[0m\u001b[1;33m)\u001b[0m\u001b[1;33m\u001b[0m\u001b[1;33m\u001b[0m\u001b[0m\n\u001b[0m\u001b[0;32m    712\u001b[0m                     \u001b[0mself\u001b[0m\u001b[1;33m.\u001b[0m\u001b[0mqueue\u001b[0m\u001b[1;33m.\u001b[0m\u001b[0mtask_done\u001b[0m\u001b[1;33m(\u001b[0m\u001b[1;33m)\u001b[0m\u001b[1;33m\u001b[0m\u001b[1;33m\u001b[0m\u001b[0m\n\u001b[0;32m    713\u001b[0m                 \u001b[1;32mexcept\u001b[0m \u001b[0mmp\u001b[0m\u001b[1;33m.\u001b[0m\u001b[0mTimeoutError\u001b[0m\u001b[1;33m:\u001b[0m\u001b[1;33m\u001b[0m\u001b[1;33m\u001b[0m\u001b[0m\n",
      "\u001b[1;32mD:\\Users\\admin\\Anaconda3\\lib\\multiprocessing\\pool.py\u001b[0m in \u001b[0;36mget\u001b[1;34m(self, timeout)\u001b[0m\n\u001b[0;32m    655\u001b[0m             \u001b[1;32mreturn\u001b[0m \u001b[0mself\u001b[0m\u001b[1;33m.\u001b[0m\u001b[0m_value\u001b[0m\u001b[1;33m\u001b[0m\u001b[1;33m\u001b[0m\u001b[0m\n\u001b[0;32m    656\u001b[0m         \u001b[1;32melse\u001b[0m\u001b[1;33m:\u001b[0m\u001b[1;33m\u001b[0m\u001b[1;33m\u001b[0m\u001b[0m\n\u001b[1;32m--> 657\u001b[1;33m             \u001b[1;32mraise\u001b[0m \u001b[0mself\u001b[0m\u001b[1;33m.\u001b[0m\u001b[0m_value\u001b[0m\u001b[1;33m\u001b[0m\u001b[1;33m\u001b[0m\u001b[0m\n\u001b[0m\u001b[0;32m    658\u001b[0m \u001b[1;33m\u001b[0m\u001b[0m\n\u001b[0;32m    659\u001b[0m     \u001b[1;32mdef\u001b[0m \u001b[0m_set\u001b[0m\u001b[1;33m(\u001b[0m\u001b[0mself\u001b[0m\u001b[1;33m,\u001b[0m \u001b[0mi\u001b[0m\u001b[1;33m,\u001b[0m \u001b[0mobj\u001b[0m\u001b[1;33m)\u001b[0m\u001b[1;33m:\u001b[0m\u001b[1;33m\u001b[0m\u001b[1;33m\u001b[0m\u001b[0m\n",
      "\u001b[1;32mD:\\Users\\admin\\Anaconda3\\lib\\multiprocessing\\pool.py\u001b[0m in \u001b[0;36mworker\u001b[1;34m(inqueue, outqueue, initializer, initargs, maxtasks, wrap_exception)\u001b[0m\n\u001b[0;32m    119\u001b[0m         \u001b[0mjob\u001b[0m\u001b[1;33m,\u001b[0m \u001b[0mi\u001b[0m\u001b[1;33m,\u001b[0m \u001b[0mfunc\u001b[0m\u001b[1;33m,\u001b[0m \u001b[0margs\u001b[0m\u001b[1;33m,\u001b[0m \u001b[0mkwds\u001b[0m \u001b[1;33m=\u001b[0m \u001b[0mtask\u001b[0m\u001b[1;33m\u001b[0m\u001b[1;33m\u001b[0m\u001b[0m\n\u001b[0;32m    120\u001b[0m         \u001b[1;32mtry\u001b[0m\u001b[1;33m:\u001b[0m\u001b[1;33m\u001b[0m\u001b[1;33m\u001b[0m\u001b[0m\n\u001b[1;32m--> 121\u001b[1;33m             \u001b[0mresult\u001b[0m \u001b[1;33m=\u001b[0m \u001b[1;33m(\u001b[0m\u001b[1;32mTrue\u001b[0m\u001b[1;33m,\u001b[0m \u001b[0mfunc\u001b[0m\u001b[1;33m(\u001b[0m\u001b[1;33m*\u001b[0m\u001b[0margs\u001b[0m\u001b[1;33m,\u001b[0m \u001b[1;33m**\u001b[0m\u001b[0mkwds\u001b[0m\u001b[1;33m)\u001b[0m\u001b[1;33m)\u001b[0m\u001b[1;33m\u001b[0m\u001b[1;33m\u001b[0m\u001b[0m\n\u001b[0m\u001b[0;32m    122\u001b[0m         \u001b[1;32mexcept\u001b[0m \u001b[0mException\u001b[0m \u001b[1;32mas\u001b[0m \u001b[0me\u001b[0m\u001b[1;33m:\u001b[0m\u001b[1;33m\u001b[0m\u001b[1;33m\u001b[0m\u001b[0m\n\u001b[0;32m    123\u001b[0m             \u001b[1;32mif\u001b[0m \u001b[0mwrap_exception\u001b[0m \u001b[1;32mand\u001b[0m \u001b[0mfunc\u001b[0m \u001b[1;32mis\u001b[0m \u001b[1;32mnot\u001b[0m \u001b[0m_helper_reraises_exception\u001b[0m\u001b[1;33m:\u001b[0m\u001b[1;33m\u001b[0m\u001b[1;33m\u001b[0m\u001b[0m\n",
      "\u001b[1;32mD:\\Users\\admin\\Anaconda3\\lib\\site-packages\\keras\\utils\\data_utils.py\u001b[0m in \u001b[0;36mnext_sample\u001b[1;34m(uid)\u001b[0m\n\u001b[0;32m    648\u001b[0m         \u001b[0mThe\u001b[0m \u001b[0mnext\u001b[0m \u001b[0mvalue\u001b[0m \u001b[0mof\u001b[0m \u001b[0mgenerator\u001b[0m\u001b[0;31m \u001b[0m\u001b[0;31m`\u001b[0m\u001b[0muid\u001b[0m\u001b[0;31m`\u001b[0m\u001b[1;33m.\u001b[0m\u001b[1;33m\u001b[0m\u001b[1;33m\u001b[0m\u001b[0m\n\u001b[0;32m    649\u001b[0m     \"\"\"\n\u001b[1;32m--> 650\u001b[1;33m     \u001b[1;32mreturn\u001b[0m \u001b[0msix\u001b[0m\u001b[1;33m.\u001b[0m\u001b[0mnext\u001b[0m\u001b[1;33m(\u001b[0m\u001b[0m_SHARED_SEQUENCES\u001b[0m\u001b[1;33m[\u001b[0m\u001b[0muid\u001b[0m\u001b[1;33m]\u001b[0m\u001b[1;33m)\u001b[0m\u001b[1;33m\u001b[0m\u001b[1;33m\u001b[0m\u001b[0m\n\u001b[0m\u001b[0;32m    651\u001b[0m \u001b[1;33m\u001b[0m\u001b[0m\n\u001b[0;32m    652\u001b[0m \u001b[1;33m\u001b[0m\u001b[0m\n",
      "\u001b[1;32mG:\\jupyter-notebook\\PHMe20\\deepar\\model\\lstm.py\u001b[0m in \u001b[0;36mts_generator\u001b[1;34m(ts_obj, n_steps)\u001b[0m\n\u001b[0;32m     84\u001b[0m     \"\"\"\n\u001b[0;32m     85\u001b[0m     \u001b[1;32mwhile\u001b[0m \u001b[1;36m1\u001b[0m\u001b[1;33m:\u001b[0m\u001b[1;33m\u001b[0m\u001b[1;33m\u001b[0m\u001b[0m\n\u001b[1;32m---> 86\u001b[1;33m         \u001b[0mbatch\u001b[0m \u001b[1;33m=\u001b[0m \u001b[0mts_obj\u001b[0m\u001b[1;33m.\u001b[0m\u001b[0mnext_batch\u001b[0m\u001b[1;33m(\u001b[0m\u001b[1;36m1\u001b[0m\u001b[1;33m,\u001b[0m \u001b[0mn_steps\u001b[0m\u001b[1;33m)\u001b[0m\u001b[1;33m\u001b[0m\u001b[1;33m\u001b[0m\u001b[0m\n\u001b[0m\u001b[0;32m     87\u001b[0m         \u001b[1;32myield\u001b[0m \u001b[0mbatch\u001b[0m\u001b[1;33m[\u001b[0m\u001b[1;36m0\u001b[0m\u001b[1;33m]\u001b[0m\u001b[1;33m,\u001b[0m \u001b[0mbatch\u001b[0m\u001b[1;33m[\u001b[0m\u001b[1;36m1\u001b[0m\u001b[1;33m]\u001b[0m\u001b[1;33m\u001b[0m\u001b[1;33m\u001b[0m\u001b[0m\n",
      "\u001b[1;32mG:\\jupyter-notebook\\PHMe20\\deepar\\dataset\\time_series.py\u001b[0m in \u001b[0;36mnext_batch\u001b[1;34m(self, batch_size, n_steps, target_var, verbose, padding_value)\u001b[0m\n\u001b[0;32m    130\u001b[0m \u001b[1;33m\u001b[0m\u001b[0m\n\u001b[0;32m    131\u001b[0m         \u001b[1;31m# Select n_batch time series\u001b[0m\u001b[1;33m\u001b[0m\u001b[1;33m\u001b[0m\u001b[1;33m\u001b[0m\u001b[0m\n\u001b[1;32m--> 132\u001b[1;33m         \u001b[0mgroups_list\u001b[0m \u001b[1;33m=\u001b[0m \u001b[0mself\u001b[0m\u001b[1;33m.\u001b[0m\u001b[0mdata\u001b[0m\u001b[1;33m[\u001b[0m\u001b[0mself\u001b[0m\u001b[1;33m.\u001b[0m\u001b[0mgrouping_variable\u001b[0m\u001b[1;33m]\u001b[0m\u001b[1;33m.\u001b[0m\u001b[0munique\u001b[0m\u001b[1;33m(\u001b[0m\u001b[1;33m)\u001b[0m\u001b[1;33m\u001b[0m\u001b[1;33m\u001b[0m\u001b[0m\n\u001b[0m\u001b[0;32m    133\u001b[0m         \u001b[0mnp\u001b[0m\u001b[1;33m.\u001b[0m\u001b[0mrandom\u001b[0m\u001b[1;33m.\u001b[0m\u001b[0mshuffle\u001b[0m\u001b[1;33m(\u001b[0m\u001b[0mgroups_list\u001b[0m\u001b[1;33m)\u001b[0m\u001b[1;33m\u001b[0m\u001b[1;33m\u001b[0m\u001b[0m\n\u001b[0;32m    134\u001b[0m         \u001b[0mselected_groups\u001b[0m \u001b[1;33m=\u001b[0m \u001b[0mgroups_list\u001b[0m\u001b[1;33m[\u001b[0m\u001b[1;33m:\u001b[0m\u001b[0mbatch_size\u001b[0m\u001b[1;33m]\u001b[0m\u001b[1;33m\u001b[0m\u001b[1;33m\u001b[0m\u001b[0m\n",
      "\u001b[1;32mD:\\Users\\admin\\Anaconda3\\lib\\site-packages\\pandas\\core\\frame.py\u001b[0m in \u001b[0;36m__getitem__\u001b[1;34m(self, key)\u001b[0m\n\u001b[0;32m   2978\u001b[0m             \u001b[1;32mif\u001b[0m \u001b[0mself\u001b[0m\u001b[1;33m.\u001b[0m\u001b[0mcolumns\u001b[0m\u001b[1;33m.\u001b[0m\u001b[0mnlevels\u001b[0m \u001b[1;33m>\u001b[0m \u001b[1;36m1\u001b[0m\u001b[1;33m:\u001b[0m\u001b[1;33m\u001b[0m\u001b[1;33m\u001b[0m\u001b[0m\n\u001b[0;32m   2979\u001b[0m                 \u001b[1;32mreturn\u001b[0m \u001b[0mself\u001b[0m\u001b[1;33m.\u001b[0m\u001b[0m_getitem_multilevel\u001b[0m\u001b[1;33m(\u001b[0m\u001b[0mkey\u001b[0m\u001b[1;33m)\u001b[0m\u001b[1;33m\u001b[0m\u001b[1;33m\u001b[0m\u001b[0m\n\u001b[1;32m-> 2980\u001b[1;33m             \u001b[0mindexer\u001b[0m \u001b[1;33m=\u001b[0m \u001b[0mself\u001b[0m\u001b[1;33m.\u001b[0m\u001b[0mcolumns\u001b[0m\u001b[1;33m.\u001b[0m\u001b[0mget_loc\u001b[0m\u001b[1;33m(\u001b[0m\u001b[0mkey\u001b[0m\u001b[1;33m)\u001b[0m\u001b[1;33m\u001b[0m\u001b[1;33m\u001b[0m\u001b[0m\n\u001b[0m\u001b[0;32m   2981\u001b[0m             \u001b[1;32mif\u001b[0m \u001b[0mis_integer\u001b[0m\u001b[1;33m(\u001b[0m\u001b[0mindexer\u001b[0m\u001b[1;33m)\u001b[0m\u001b[1;33m:\u001b[0m\u001b[1;33m\u001b[0m\u001b[1;33m\u001b[0m\u001b[0m\n\u001b[0;32m   2982\u001b[0m                 \u001b[0mindexer\u001b[0m \u001b[1;33m=\u001b[0m \u001b[1;33m[\u001b[0m\u001b[0mindexer\u001b[0m\u001b[1;33m]\u001b[0m\u001b[1;33m\u001b[0m\u001b[1;33m\u001b[0m\u001b[0m\n",
      "\u001b[1;32mD:\\Users\\admin\\Anaconda3\\lib\\site-packages\\pandas\\core\\indexes\\base.py\u001b[0m in \u001b[0;36mget_loc\u001b[1;34m(self, key, method, tolerance)\u001b[0m\n\u001b[0;32m   2897\u001b[0m                 \u001b[1;32mreturn\u001b[0m \u001b[0mself\u001b[0m\u001b[1;33m.\u001b[0m\u001b[0m_engine\u001b[0m\u001b[1;33m.\u001b[0m\u001b[0mget_loc\u001b[0m\u001b[1;33m(\u001b[0m\u001b[0mkey\u001b[0m\u001b[1;33m)\u001b[0m\u001b[1;33m\u001b[0m\u001b[1;33m\u001b[0m\u001b[0m\n\u001b[0;32m   2898\u001b[0m             \u001b[1;32mexcept\u001b[0m \u001b[0mKeyError\u001b[0m\u001b[1;33m:\u001b[0m\u001b[1;33m\u001b[0m\u001b[1;33m\u001b[0m\u001b[0m\n\u001b[1;32m-> 2899\u001b[1;33m                 \u001b[1;32mreturn\u001b[0m \u001b[0mself\u001b[0m\u001b[1;33m.\u001b[0m\u001b[0m_engine\u001b[0m\u001b[1;33m.\u001b[0m\u001b[0mget_loc\u001b[0m\u001b[1;33m(\u001b[0m\u001b[0mself\u001b[0m\u001b[1;33m.\u001b[0m\u001b[0m_maybe_cast_indexer\u001b[0m\u001b[1;33m(\u001b[0m\u001b[0mkey\u001b[0m\u001b[1;33m)\u001b[0m\u001b[1;33m)\u001b[0m\u001b[1;33m\u001b[0m\u001b[1;33m\u001b[0m\u001b[0m\n\u001b[0m\u001b[0;32m   2900\u001b[0m         \u001b[0mindexer\u001b[0m \u001b[1;33m=\u001b[0m \u001b[0mself\u001b[0m\u001b[1;33m.\u001b[0m\u001b[0mget_indexer\u001b[0m\u001b[1;33m(\u001b[0m\u001b[1;33m[\u001b[0m\u001b[0mkey\u001b[0m\u001b[1;33m]\u001b[0m\u001b[1;33m,\u001b[0m \u001b[0mmethod\u001b[0m\u001b[1;33m=\u001b[0m\u001b[0mmethod\u001b[0m\u001b[1;33m,\u001b[0m \u001b[0mtolerance\u001b[0m\u001b[1;33m=\u001b[0m\u001b[0mtolerance\u001b[0m\u001b[1;33m)\u001b[0m\u001b[1;33m\u001b[0m\u001b[1;33m\u001b[0m\u001b[0m\n\u001b[0;32m   2901\u001b[0m         \u001b[1;32mif\u001b[0m \u001b[0mindexer\u001b[0m\u001b[1;33m.\u001b[0m\u001b[0mndim\u001b[0m \u001b[1;33m>\u001b[0m \u001b[1;36m1\u001b[0m \u001b[1;32mor\u001b[0m \u001b[0mindexer\u001b[0m\u001b[1;33m.\u001b[0m\u001b[0msize\u001b[0m \u001b[1;33m>\u001b[0m \u001b[1;36m1\u001b[0m\u001b[1;33m:\u001b[0m\u001b[1;33m\u001b[0m\u001b[1;33m\u001b[0m\u001b[0m\n",
      "\u001b[1;32mpandas\\_libs\\index.pyx\u001b[0m in \u001b[0;36mpandas._libs.index.IndexEngine.get_loc\u001b[1;34m()\u001b[0m\n",
      "\u001b[1;32mpandas\\_libs\\index.pyx\u001b[0m in \u001b[0;36mpandas._libs.index.IndexEngine.get_loc\u001b[1;34m()\u001b[0m\n",
      "\u001b[1;32mpandas\\_libs\\hashtable_class_helper.pxi\u001b[0m in \u001b[0;36mpandas._libs.hashtable.PyObjectHashTable.get_item\u001b[1;34m()\u001b[0m\n",
      "\u001b[1;32mpandas\\_libs\\hashtable_class_helper.pxi\u001b[0m in \u001b[0;36mpandas._libs.hashtable.PyObjectHashTable.get_item\u001b[1;34m()\u001b[0m\n",
      "\u001b[1;31mKeyError\u001b[0m: None"
     ]
    }
   ],
   "source": [
    "from deepar.dataset.time_series import TimeSeries\n",
    "# load data and define model\n",
    "# TimeSeries(self, pandas_df, one_hot_root_list=None, grouping_variable='category', scaler=None)\n",
    "ts = TimeSeries(ts, grouping_variable = None)\n",
    "dp_model = DeepAR(ts, epochs=50)\n",
    "dp_model.instantiate_and_fit()"
   ]
  },
  {
   "cell_type": "code",
   "execution_count": null,
   "metadata": {},
   "outputs": [],
   "source": [
    "def get_sample_prediction(sample, fn):\n",
    "    sample = np.array(sample).reshape(1, 20, 1)\n",
    "    output = fn([sample])\n",
    "    samples = []\n",
    "    for mu,sigma in zip(output[0].reshape(20), output[1].reshape(20)):\n",
    "        # normal generate a random number(float), which is Gaussian distrubution\n",
    "        samples.append(normal(loc=mu, scale=np.sqrt(sigma), size=1)[0])\n",
    "    return np.array(samples)"
   ]
  },
  {
   "cell_type": "code",
   "execution_count": null,
   "metadata": {},
   "outputs": [],
   "source": [
    "# next_batch(self, batch_size, n_steps,target_var='target', verbose=False, padding_value=0) \n",
    "# ---> return a tuple X (feature space), y\n",
    "# X = ( batch_size, n_steps, -1 )\n",
    "batch = ts.next_batch(1, 20)\n",
    "\n",
    "ress = []\n",
    "# tqdm 只是产生一个进度条\n",
    "for i in tqdm.tqdm(range(300)):\n",
    "    # predict_theta_from_input : 每次预测产生模型（高斯模型）的参数【均值，方差】数据, which is the optimal parameter value of Gaussion\n",
    "    # get_sample_prediction : 得到预测值，进去多少个就产生多少个\n",
    "    # get_sample_prediction 过程中并不会继续改变模型参数（即没有在训练），所以其实这个重复产生theta的过程是多余的\n",
    "    ress.append(get_sample_prediction(batch[0], dp_model.predict_theta_from_input))\n",
    "\n",
    "res_df = pd.DataFrame(ress).T\n",
    "tot_res = res_df\n",
    "\n",
    "plt.plot(batch[1].reshape(20), linewidth=6)\n",
    "tot_res['mu'] = tot_res.apply(lambda x: np.mean(x), axis=1)\n",
    "tot_res['upper'] = tot_res.apply(lambda x: np.mean(x) + np.std(x), axis=1)\n",
    "tot_res['lower'] = tot_res.apply(lambda x: np.mean(x) - np.std(x), axis=1)\n",
    "tot_res['two_upper'] = tot_res.apply(lambda x: np.mean(x) + 2*np.std(x), axis=1)\n",
    "tot_res['two_lower'] = tot_res.apply(lambda x: np.mean(x) - 2*np.std(x), axis=1)\n",
    "\n",
    "plt.plot(tot_res.mu, 'bo')\n",
    "plt.plot(tot_res.mu, linewidth=2)\n",
    "plt.fill_between(x = tot_res.index, y1=tot_res.lower, y2=tot_res.upper, alpha=0.5)\n",
    "plt.fill_between(x = tot_res.index, y1=tot_res.two_lower, y2=tot_res.two_upper, alpha=0.5)\n",
    "plt.title('Prediction uncertainty')"
   ]
  },
  {
   "cell_type": "code",
   "execution_count": null,
   "metadata": {},
   "outputs": [],
   "source": []
  },
  {
   "cell_type": "code",
   "execution_count": null,
   "metadata": {},
   "outputs": [],
   "source": []
  },
  {
   "cell_type": "code",
   "execution_count": null,
   "metadata": {},
   "outputs": [],
   "source": []
  },
  {
   "cell_type": "code",
   "execution_count": null,
   "metadata": {},
   "outputs": [],
   "source": []
  },
  {
   "cell_type": "code",
   "execution_count": null,
   "metadata": {},
   "outputs": [],
   "source": []
  },
  {
   "cell_type": "code",
   "execution_count": null,
   "metadata": {},
   "outputs": [],
   "source": []
  }
 ],
 "metadata": {
  "kernelspec": {
   "display_name": "Python 3",
   "language": "python",
   "name": "python3"
  },
  "language_info": {
   "codemirror_mode": {
    "name": "ipython",
    "version": 3
   },
   "file_extension": ".py",
   "mimetype": "text/x-python",
   "name": "python",
   "nbconvert_exporter": "python",
   "pygments_lexer": "ipython3",
   "version": "3.7.4"
  }
 },
 "nbformat": 4,
 "nbformat_minor": 2
}
